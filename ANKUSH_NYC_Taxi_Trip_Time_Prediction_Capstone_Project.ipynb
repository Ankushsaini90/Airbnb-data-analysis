{
  "nbformat": 4,
  "nbformat_minor": 0,
  "metadata": {
    "kernelspec": {
      "display_name": "Python 3",
      "language": "python",
      "name": "python3"
    },
    "language_info": {
      "codemirror_mode": {
        "name": "ipython",
        "version": 3
      },
      "file_extension": ".py",
      "mimetype": "text/x-python",
      "name": "python",
      "nbconvert_exporter": "python",
      "pygments_lexer": "ipython3",
      "version": "3.6.6"
    },
    "colab": {
      "name": "ANKUSH - NYC Taxi Trip Time Prediction - Capstone Project.ipynb",
      "provenance": [],
      "collapsed_sections": [],
      "include_colab_link": true
    }
  },
  "cells": [
    {
      "cell_type": "markdown",
      "metadata": {
        "id": "view-in-github",
        "colab_type": "text"
      },
      "source": [
        "<a href=\"https://colab.research.google.com/github/Ankushsaini90/Airbnb-data-analysis/blob/main/ANKUSH_NYC_Taxi_Trip_Time_Prediction_Capstone_Project.ipynb\" target=\"_parent\"><img src=\"https://colab.research.google.com/assets/colab-badge.svg\" alt=\"Open In Colab\"/></a>"
      ]
    },
    {
      "cell_type": "markdown",
      "metadata": {
        "id": "tOGC-qoyhJeX"
      },
      "source": [
        "# <b><u> Project Title : Taxi trip time Prediction : Predicting total ride duration of taxi trips in New York City</u></b>"
      ]
    },
    {
      "cell_type": "markdown",
      "metadata": {
        "id": "Y06xIdG26kRF"
      },
      "source": [
        "## <b> Problem Description </b>\n",
        "\n",
        "### Your task is to build a model that predicts the total ride duration of taxi trips in New York City. Your primary dataset is one released by the NYC Taxi and Limousine Commission, which includes pickup time, geo-coordinates, number of passengers, and several other variables."
      ]
    },
    {
      "cell_type": "markdown",
      "metadata": {
        "id": "WWeU1f9bwqQq"
      },
      "source": [
        "## <b> data Description </b>\n",
        "\n",
        "### The dataset is based on the 2016 NYC Yellow Cab trip record data made available in Big Query on Google Cloud Platform. The data was originally published by the NYC Taxi and Limousine Commission (TLC). The data was sampled and cleaned for the purposes of this project. Based on individual trip attributes, you should predict the duration of each trip in the test set.\n",
        "\n",
        "### <b>NYC Taxi df.csv</b> - the training set (contains 1458644 trip records)\n",
        "\n",
        "\n",
        "### data fields\n",
        "* #### id - a unique identifier for each trip\n",
        "* #### vendor_id - a code indicating the provider associated with the trip record\n",
        "* #### pickup_datetime - date and time when the meter was engaged\n",
        "* #### dropoff_datetime - date and time when the meter was disengaged\n",
        "* #### passenger_count - the number of passengers in the vehicle (driver entered value)\n",
        "* #### pickup_longitude - the longitude where the meter was engaged\n",
        "* #### pickup_latitude - the latitude where the meter was engaged\n",
        "* #### dropoff_longitude - the longitude where the meter was disengaged\n",
        "* #### dropoff_latitude - the latitude where the meter was disengaged\n",
        "* #### store_and_fwd_flag - This flag indicates whether the trip record was held in vehicle memory before sending to the vendor because the vehicle did not have a connection to the server - Y=store and forward; N=not a store and forward trip\n",
        "* #### trip_duration - duration of the trip in seconds"
      ]
    },
    {
      "cell_type": "code",
      "metadata": {
        "id": "dByMsuzT8Tnw"
      },
      "source": [
        "# importing some important library\n",
        "import pandas as pd\n",
        "import numpy as np\n",
        "import matplotlib.pyplot as plt\n",
        "import seaborn as sns"
      ],
      "execution_count": null,
      "outputs": []
    },
    {
      "cell_type": "code",
      "source": [
        "# Mounting google drive\n",
        "from google.colab import drive\n",
        "drive.mount('/content/drive')"
      ],
      "metadata": {
        "id": "RxV5UxTHto7Q",
        "colab": {
          "base_uri": "https://localhost:8080/"
        },
        "outputId": "6af5399b-cb7b-4f0c-d154-2faad4bc0da5"
      },
      "execution_count": null,
      "outputs": [
        {
          "output_type": "stream",
          "name": "stdout",
          "text": [
            "Drive already mounted at /content/drive; to attempt to forcibly remount, call drive.mount(\"/content/drive\", force_remount=True).\n"
          ]
        }
      ]
    },
    {
      "cell_type": "code",
      "source": [
        "# importing data\n",
        "df = pd.read_csv('/content/NYC Taxi Data.csv')"
      ],
      "metadata": {
        "id": "_w96nBxoOyYA"
      },
      "execution_count": null,
      "outputs": []
    },
    {
      "cell_type": "code",
      "source": [
        "df.head()"
      ],
      "metadata": {
        "id": "CEdImQieuOiZ",
        "outputId": "dec93df2-e204-4998-8630-d855585e90ae",
        "colab": {
          "base_uri": "https://localhost:8080/",
          "height": 357
        }
      },
      "execution_count": null,
      "outputs": [
        {
          "output_type": "execute_result",
          "data": {
            "text/plain": [
              "          id  vendor_id      pickup_datetime     dropoff_datetime  \\\n",
              "0  id2875421          2  2016-03-14 17:24:55  2016-03-14 17:32:30   \n",
              "1  id2377394          1  2016-06-12 00:43:35  2016-06-12 00:54:38   \n",
              "2  id3858529          2  2016-01-19 11:35:24  2016-01-19 12:10:48   \n",
              "3  id3504673          2  2016-04-06 19:32:31  2016-04-06 19:39:40   \n",
              "4  id2181028          2  2016-03-26 13:30:55  2016-03-26 13:38:10   \n",
              "\n",
              "   passenger_count  pickup_longitude  pickup_latitude  dropoff_longitude  \\\n",
              "0                1        -73.982155        40.767937         -73.964630   \n",
              "1                1        -73.980415        40.738564         -73.999481   \n",
              "2                1        -73.979027        40.763939         -74.005333   \n",
              "3                1        -74.010040        40.719971         -74.012268   \n",
              "4                1        -73.973053        40.793209         -73.972923   \n",
              "\n",
              "   dropoff_latitude store_and_fwd_flag  trip_duration  \n",
              "0         40.765602                  N            455  \n",
              "1         40.731152                  N            663  \n",
              "2         40.710087                  N           2124  \n",
              "3         40.706718                  N            429  \n",
              "4         40.782520                  N            435  "
            ],
            "text/html": [
              "\n",
              "  <div id=\"df-5832f159-54ae-4bdb-aa62-361a25b408b8\">\n",
              "    <div class=\"colab-df-container\">\n",
              "      <div>\n",
              "<style scoped>\n",
              "    .dataframe tbody tr th:only-of-type {\n",
              "        vertical-align: middle;\n",
              "    }\n",
              "\n",
              "    .dataframe tbody tr th {\n",
              "        vertical-align: top;\n",
              "    }\n",
              "\n",
              "    .dataframe thead th {\n",
              "        text-align: right;\n",
              "    }\n",
              "</style>\n",
              "<table border=\"1\" class=\"dataframe\">\n",
              "  <thead>\n",
              "    <tr style=\"text-align: right;\">\n",
              "      <th></th>\n",
              "      <th>id</th>\n",
              "      <th>vendor_id</th>\n",
              "      <th>pickup_datetime</th>\n",
              "      <th>dropoff_datetime</th>\n",
              "      <th>passenger_count</th>\n",
              "      <th>pickup_longitude</th>\n",
              "      <th>pickup_latitude</th>\n",
              "      <th>dropoff_longitude</th>\n",
              "      <th>dropoff_latitude</th>\n",
              "      <th>store_and_fwd_flag</th>\n",
              "      <th>trip_duration</th>\n",
              "    </tr>\n",
              "  </thead>\n",
              "  <tbody>\n",
              "    <tr>\n",
              "      <th>0</th>\n",
              "      <td>id2875421</td>\n",
              "      <td>2</td>\n",
              "      <td>2016-03-14 17:24:55</td>\n",
              "      <td>2016-03-14 17:32:30</td>\n",
              "      <td>1</td>\n",
              "      <td>-73.982155</td>\n",
              "      <td>40.767937</td>\n",
              "      <td>-73.964630</td>\n",
              "      <td>40.765602</td>\n",
              "      <td>N</td>\n",
              "      <td>455</td>\n",
              "    </tr>\n",
              "    <tr>\n",
              "      <th>1</th>\n",
              "      <td>id2377394</td>\n",
              "      <td>1</td>\n",
              "      <td>2016-06-12 00:43:35</td>\n",
              "      <td>2016-06-12 00:54:38</td>\n",
              "      <td>1</td>\n",
              "      <td>-73.980415</td>\n",
              "      <td>40.738564</td>\n",
              "      <td>-73.999481</td>\n",
              "      <td>40.731152</td>\n",
              "      <td>N</td>\n",
              "      <td>663</td>\n",
              "    </tr>\n",
              "    <tr>\n",
              "      <th>2</th>\n",
              "      <td>id3858529</td>\n",
              "      <td>2</td>\n",
              "      <td>2016-01-19 11:35:24</td>\n",
              "      <td>2016-01-19 12:10:48</td>\n",
              "      <td>1</td>\n",
              "      <td>-73.979027</td>\n",
              "      <td>40.763939</td>\n",
              "      <td>-74.005333</td>\n",
              "      <td>40.710087</td>\n",
              "      <td>N</td>\n",
              "      <td>2124</td>\n",
              "    </tr>\n",
              "    <tr>\n",
              "      <th>3</th>\n",
              "      <td>id3504673</td>\n",
              "      <td>2</td>\n",
              "      <td>2016-04-06 19:32:31</td>\n",
              "      <td>2016-04-06 19:39:40</td>\n",
              "      <td>1</td>\n",
              "      <td>-74.010040</td>\n",
              "      <td>40.719971</td>\n",
              "      <td>-74.012268</td>\n",
              "      <td>40.706718</td>\n",
              "      <td>N</td>\n",
              "      <td>429</td>\n",
              "    </tr>\n",
              "    <tr>\n",
              "      <th>4</th>\n",
              "      <td>id2181028</td>\n",
              "      <td>2</td>\n",
              "      <td>2016-03-26 13:30:55</td>\n",
              "      <td>2016-03-26 13:38:10</td>\n",
              "      <td>1</td>\n",
              "      <td>-73.973053</td>\n",
              "      <td>40.793209</td>\n",
              "      <td>-73.972923</td>\n",
              "      <td>40.782520</td>\n",
              "      <td>N</td>\n",
              "      <td>435</td>\n",
              "    </tr>\n",
              "  </tbody>\n",
              "</table>\n",
              "</div>\n",
              "      <button class=\"colab-df-convert\" onclick=\"convertToInteractive('df-5832f159-54ae-4bdb-aa62-361a25b408b8')\"\n",
              "              title=\"Convert this dataframe to an interactive table.\"\n",
              "              style=\"display:none;\">\n",
              "        \n",
              "  <svg xmlns=\"http://www.w3.org/2000/svg\" height=\"24px\"viewBox=\"0 0 24 24\"\n",
              "       width=\"24px\">\n",
              "    <path d=\"M0 0h24v24H0V0z\" fill=\"none\"/>\n",
              "    <path d=\"M18.56 5.44l.94 2.06.94-2.06 2.06-.94-2.06-.94-.94-2.06-.94 2.06-2.06.94zm-11 1L8.5 8.5l.94-2.06 2.06-.94-2.06-.94L8.5 2.5l-.94 2.06-2.06.94zm10 10l.94 2.06.94-2.06 2.06-.94-2.06-.94-.94-2.06-.94 2.06-2.06.94z\"/><path d=\"M17.41 7.96l-1.37-1.37c-.4-.4-.92-.59-1.43-.59-.52 0-1.04.2-1.43.59L10.3 9.45l-7.72 7.72c-.78.78-.78 2.05 0 2.83L4 21.41c.39.39.9.59 1.41.59.51 0 1.02-.2 1.41-.59l7.78-7.78 2.81-2.81c.8-.78.8-2.07 0-2.86zM5.41 20L4 18.59l7.72-7.72 1.47 1.35L5.41 20z\"/>\n",
              "  </svg>\n",
              "      </button>\n",
              "      \n",
              "  <style>\n",
              "    .colab-df-container {\n",
              "      display:flex;\n",
              "      flex-wrap:wrap;\n",
              "      gap: 12px;\n",
              "    }\n",
              "\n",
              "    .colab-df-convert {\n",
              "      background-color: #E8F0FE;\n",
              "      border: none;\n",
              "      border-radius: 50%;\n",
              "      cursor: pointer;\n",
              "      display: none;\n",
              "      fill: #1967D2;\n",
              "      height: 32px;\n",
              "      padding: 0 0 0 0;\n",
              "      width: 32px;\n",
              "    }\n",
              "\n",
              "    .colab-df-convert:hover {\n",
              "      background-color: #E2EBFA;\n",
              "      box-shadow: 0px 1px 2px rgba(60, 64, 67, 0.3), 0px 1px 3px 1px rgba(60, 64, 67, 0.15);\n",
              "      fill: #174EA6;\n",
              "    }\n",
              "\n",
              "    [theme=dark] .colab-df-convert {\n",
              "      background-color: #3B4455;\n",
              "      fill: #D2E3FC;\n",
              "    }\n",
              "\n",
              "    [theme=dark] .colab-df-convert:hover {\n",
              "      background-color: #434B5C;\n",
              "      box-shadow: 0px 1px 3px 1px rgba(0, 0, 0, 0.15);\n",
              "      filter: drop-shadow(0px 1px 2px rgba(0, 0, 0, 0.3));\n",
              "      fill: #FFFFFF;\n",
              "    }\n",
              "  </style>\n",
              "\n",
              "      <script>\n",
              "        const buttonEl =\n",
              "          document.querySelector('#df-5832f159-54ae-4bdb-aa62-361a25b408b8 button.colab-df-convert');\n",
              "        buttonEl.style.display =\n",
              "          google.colab.kernel.accessAllowed ? 'block' : 'none';\n",
              "\n",
              "        async function convertToInteractive(key) {\n",
              "          const element = document.querySelector('#df-5832f159-54ae-4bdb-aa62-361a25b408b8');\n",
              "          const dataTable =\n",
              "            await google.colab.kernel.invokeFunction('convertToInteractive',\n",
              "                                                     [key], {});\n",
              "          if (!dataTable) return;\n",
              "\n",
              "          const docLinkHtml = 'Like what you see? Visit the ' +\n",
              "            '<a target=\"_blank\" href=https://colab.research.google.com/notebooks/data_table.ipynb>data table notebook</a>'\n",
              "            + ' to learn more about interactive tables.';\n",
              "          element.innerHTML = '';\n",
              "          dataTable['output_type'] = 'display_data';\n",
              "          await google.colab.output.renderOutput(dataTable, element);\n",
              "          const docLink = document.createElement('div');\n",
              "          docLink.innerHTML = docLinkHtml;\n",
              "          element.appendChild(docLink);\n",
              "        }\n",
              "      </script>\n",
              "    </div>\n",
              "  </div>\n",
              "  "
            ]
          },
          "metadata": {},
          "execution_count": 564
        }
      ]
    },
    {
      "cell_type": "code",
      "source": [
        "# checking type of data\n",
        "df.dtypes"
      ],
      "metadata": {
        "colab": {
          "base_uri": "https://localhost:8080/"
        },
        "id": "-QuWCn13lWEL",
        "outputId": "e26aa247-8f61-4653-f842-c0e96ba42c94"
      },
      "execution_count": null,
      "outputs": [
        {
          "output_type": "execute_result",
          "data": {
            "text/plain": [
              "id                     object\n",
              "vendor_id               int64\n",
              "pickup_datetime        object\n",
              "dropoff_datetime       object\n",
              "passenger_count         int64\n",
              "pickup_longitude      float64\n",
              "pickup_latitude       float64\n",
              "dropoff_longitude     float64\n",
              "dropoff_latitude      float64\n",
              "store_and_fwd_flag     object\n",
              "trip_duration           int64\n",
              "dtype: object"
            ]
          },
          "metadata": {},
          "execution_count": 566
        }
      ]
    },
    {
      "cell_type": "code",
      "source": [
        "#Convert timestamp to datetime format \n",
        "df['pickup_datetime']=pd.to_datetime(df['pickup_datetime'])\n",
        "df['dropoff_datetime']=pd.to_datetime(df['dropoff_datetime'])"
      ],
      "metadata": {
        "id": "hnFov9ss0FV9"
      },
      "execution_count": null,
      "outputs": []
    },
    {
      "cell_type": "code",
      "source": [
        "df.dtypes"
      ],
      "metadata": {
        "colab": {
          "base_uri": "https://localhost:8080/"
        },
        "id": "-DX_XqKHmG5Q",
        "outputId": "c13327c4-1dd0-4465-9d5d-8d84a09d3975"
      },
      "execution_count": null,
      "outputs": [
        {
          "output_type": "execute_result",
          "data": {
            "text/plain": [
              "id                            object\n",
              "vendor_id                      int64\n",
              "pickup_datetime       datetime64[ns]\n",
              "dropoff_datetime      datetime64[ns]\n",
              "passenger_count                int64\n",
              "pickup_longitude             float64\n",
              "pickup_latitude              float64\n",
              "dropoff_longitude            float64\n",
              "dropoff_latitude             float64\n",
              "store_and_fwd_flag            object\n",
              "trip_duration                  int64\n",
              "dtype: object"
            ]
          },
          "metadata": {},
          "execution_count": 568
        }
      ]
    },
    {
      "cell_type": "code",
      "source": [
        "# Assign new columns to the dframe such as pickup_day, month\n",
        "df['pickup_day'] = pd.DatetimeIndex(df['pickup_datetime']).day\n",
        "df['pickup_hour'] = pd.DatetimeIndex(df['pickup_datetime']).hour\n",
        "#df['dropoff_day'] = pd.DatetimeIndex(df['pickup_datetime']).day\n",
        "df['pickup_month'] = pd.DatetimeIndex(df['pickup_datetime']).month\n",
        "#df['dropoff_month'] = pd.DatetimeIndex(df['pickup_datetime']).month\n",
        "df['weekday'] = pd.DatetimeIndex(df['pickup_datetime']).weekday"
      ],
      "metadata": {
        "id": "_ljHK3o-p3Vq"
      },
      "execution_count": null,
      "outputs": []
    },
    {
      "cell_type": "code",
      "source": [
        "df.head()"
      ],
      "metadata": {
        "colab": {
          "base_uri": "https://localhost:8080/",
          "height": 357
        },
        "id": "oMdtEG3prxVf",
        "outputId": "9f9d0995-f47d-472d-e3ae-4bafbfc529f4"
      },
      "execution_count": null,
      "outputs": [
        {
          "output_type": "execute_result",
          "data": {
            "text/plain": [
              "          id  vendor_id     pickup_datetime    dropoff_datetime  \\\n",
              "0  id2875421          2 2016-03-14 17:24:55 2016-03-14 17:32:30   \n",
              "1  id2377394          1 2016-06-12 00:43:35 2016-06-12 00:54:38   \n",
              "2  id3858529          2 2016-01-19 11:35:24 2016-01-19 12:10:48   \n",
              "3  id3504673          2 2016-04-06 19:32:31 2016-04-06 19:39:40   \n",
              "4  id2181028          2 2016-03-26 13:30:55 2016-03-26 13:38:10   \n",
              "\n",
              "   passenger_count  pickup_longitude  pickup_latitude  dropoff_longitude  \\\n",
              "0                1        -73.982155        40.767937         -73.964630   \n",
              "1                1        -73.980415        40.738564         -73.999481   \n",
              "2                1        -73.979027        40.763939         -74.005333   \n",
              "3                1        -74.010040        40.719971         -74.012268   \n",
              "4                1        -73.973053        40.793209         -73.972923   \n",
              "\n",
              "   dropoff_latitude store_and_fwd_flag  trip_duration  pickup_day  \\\n",
              "0         40.765602                  N            455          14   \n",
              "1         40.731152                  N            663          12   \n",
              "2         40.710087                  N           2124          19   \n",
              "3         40.706718                  N            429           6   \n",
              "4         40.782520                  N            435          26   \n",
              "\n",
              "   pickup_hour  pickup_month  weekday  \n",
              "0           17             3        0  \n",
              "1            0             6        6  \n",
              "2           11             1        1  \n",
              "3           19             4        2  \n",
              "4           13             3        5  "
            ],
            "text/html": [
              "\n",
              "  <div id=\"df-f7459233-69ff-4fe3-813b-82131b188a29\">\n",
              "    <div class=\"colab-df-container\">\n",
              "      <div>\n",
              "<style scoped>\n",
              "    .dataframe tbody tr th:only-of-type {\n",
              "        vertical-align: middle;\n",
              "    }\n",
              "\n",
              "    .dataframe tbody tr th {\n",
              "        vertical-align: top;\n",
              "    }\n",
              "\n",
              "    .dataframe thead th {\n",
              "        text-align: right;\n",
              "    }\n",
              "</style>\n",
              "<table border=\"1\" class=\"dataframe\">\n",
              "  <thead>\n",
              "    <tr style=\"text-align: right;\">\n",
              "      <th></th>\n",
              "      <th>id</th>\n",
              "      <th>vendor_id</th>\n",
              "      <th>pickup_datetime</th>\n",
              "      <th>dropoff_datetime</th>\n",
              "      <th>passenger_count</th>\n",
              "      <th>pickup_longitude</th>\n",
              "      <th>pickup_latitude</th>\n",
              "      <th>dropoff_longitude</th>\n",
              "      <th>dropoff_latitude</th>\n",
              "      <th>store_and_fwd_flag</th>\n",
              "      <th>trip_duration</th>\n",
              "      <th>pickup_day</th>\n",
              "      <th>pickup_hour</th>\n",
              "      <th>pickup_month</th>\n",
              "      <th>weekday</th>\n",
              "    </tr>\n",
              "  </thead>\n",
              "  <tbody>\n",
              "    <tr>\n",
              "      <th>0</th>\n",
              "      <td>id2875421</td>\n",
              "      <td>2</td>\n",
              "      <td>2016-03-14 17:24:55</td>\n",
              "      <td>2016-03-14 17:32:30</td>\n",
              "      <td>1</td>\n",
              "      <td>-73.982155</td>\n",
              "      <td>40.767937</td>\n",
              "      <td>-73.964630</td>\n",
              "      <td>40.765602</td>\n",
              "      <td>N</td>\n",
              "      <td>455</td>\n",
              "      <td>14</td>\n",
              "      <td>17</td>\n",
              "      <td>3</td>\n",
              "      <td>0</td>\n",
              "    </tr>\n",
              "    <tr>\n",
              "      <th>1</th>\n",
              "      <td>id2377394</td>\n",
              "      <td>1</td>\n",
              "      <td>2016-06-12 00:43:35</td>\n",
              "      <td>2016-06-12 00:54:38</td>\n",
              "      <td>1</td>\n",
              "      <td>-73.980415</td>\n",
              "      <td>40.738564</td>\n",
              "      <td>-73.999481</td>\n",
              "      <td>40.731152</td>\n",
              "      <td>N</td>\n",
              "      <td>663</td>\n",
              "      <td>12</td>\n",
              "      <td>0</td>\n",
              "      <td>6</td>\n",
              "      <td>6</td>\n",
              "    </tr>\n",
              "    <tr>\n",
              "      <th>2</th>\n",
              "      <td>id3858529</td>\n",
              "      <td>2</td>\n",
              "      <td>2016-01-19 11:35:24</td>\n",
              "      <td>2016-01-19 12:10:48</td>\n",
              "      <td>1</td>\n",
              "      <td>-73.979027</td>\n",
              "      <td>40.763939</td>\n",
              "      <td>-74.005333</td>\n",
              "      <td>40.710087</td>\n",
              "      <td>N</td>\n",
              "      <td>2124</td>\n",
              "      <td>19</td>\n",
              "      <td>11</td>\n",
              "      <td>1</td>\n",
              "      <td>1</td>\n",
              "    </tr>\n",
              "    <tr>\n",
              "      <th>3</th>\n",
              "      <td>id3504673</td>\n",
              "      <td>2</td>\n",
              "      <td>2016-04-06 19:32:31</td>\n",
              "      <td>2016-04-06 19:39:40</td>\n",
              "      <td>1</td>\n",
              "      <td>-74.010040</td>\n",
              "      <td>40.719971</td>\n",
              "      <td>-74.012268</td>\n",
              "      <td>40.706718</td>\n",
              "      <td>N</td>\n",
              "      <td>429</td>\n",
              "      <td>6</td>\n",
              "      <td>19</td>\n",
              "      <td>4</td>\n",
              "      <td>2</td>\n",
              "    </tr>\n",
              "    <tr>\n",
              "      <th>4</th>\n",
              "      <td>id2181028</td>\n",
              "      <td>2</td>\n",
              "      <td>2016-03-26 13:30:55</td>\n",
              "      <td>2016-03-26 13:38:10</td>\n",
              "      <td>1</td>\n",
              "      <td>-73.973053</td>\n",
              "      <td>40.793209</td>\n",
              "      <td>-73.972923</td>\n",
              "      <td>40.782520</td>\n",
              "      <td>N</td>\n",
              "      <td>435</td>\n",
              "      <td>26</td>\n",
              "      <td>13</td>\n",
              "      <td>3</td>\n",
              "      <td>5</td>\n",
              "    </tr>\n",
              "  </tbody>\n",
              "</table>\n",
              "</div>\n",
              "      <button class=\"colab-df-convert\" onclick=\"convertToInteractive('df-f7459233-69ff-4fe3-813b-82131b188a29')\"\n",
              "              title=\"Convert this dataframe to an interactive table.\"\n",
              "              style=\"display:none;\">\n",
              "        \n",
              "  <svg xmlns=\"http://www.w3.org/2000/svg\" height=\"24px\"viewBox=\"0 0 24 24\"\n",
              "       width=\"24px\">\n",
              "    <path d=\"M0 0h24v24H0V0z\" fill=\"none\"/>\n",
              "    <path d=\"M18.56 5.44l.94 2.06.94-2.06 2.06-.94-2.06-.94-.94-2.06-.94 2.06-2.06.94zm-11 1L8.5 8.5l.94-2.06 2.06-.94-2.06-.94L8.5 2.5l-.94 2.06-2.06.94zm10 10l.94 2.06.94-2.06 2.06-.94-2.06-.94-.94-2.06-.94 2.06-2.06.94z\"/><path d=\"M17.41 7.96l-1.37-1.37c-.4-.4-.92-.59-1.43-.59-.52 0-1.04.2-1.43.59L10.3 9.45l-7.72 7.72c-.78.78-.78 2.05 0 2.83L4 21.41c.39.39.9.59 1.41.59.51 0 1.02-.2 1.41-.59l7.78-7.78 2.81-2.81c.8-.78.8-2.07 0-2.86zM5.41 20L4 18.59l7.72-7.72 1.47 1.35L5.41 20z\"/>\n",
              "  </svg>\n",
              "      </button>\n",
              "      \n",
              "  <style>\n",
              "    .colab-df-container {\n",
              "      display:flex;\n",
              "      flex-wrap:wrap;\n",
              "      gap: 12px;\n",
              "    }\n",
              "\n",
              "    .colab-df-convert {\n",
              "      background-color: #E8F0FE;\n",
              "      border: none;\n",
              "      border-radius: 50%;\n",
              "      cursor: pointer;\n",
              "      display: none;\n",
              "      fill: #1967D2;\n",
              "      height: 32px;\n",
              "      padding: 0 0 0 0;\n",
              "      width: 32px;\n",
              "    }\n",
              "\n",
              "    .colab-df-convert:hover {\n",
              "      background-color: #E2EBFA;\n",
              "      box-shadow: 0px 1px 2px rgba(60, 64, 67, 0.3), 0px 1px 3px 1px rgba(60, 64, 67, 0.15);\n",
              "      fill: #174EA6;\n",
              "    }\n",
              "\n",
              "    [theme=dark] .colab-df-convert {\n",
              "      background-color: #3B4455;\n",
              "      fill: #D2E3FC;\n",
              "    }\n",
              "\n",
              "    [theme=dark] .colab-df-convert:hover {\n",
              "      background-color: #434B5C;\n",
              "      box-shadow: 0px 1px 3px 1px rgba(0, 0, 0, 0.15);\n",
              "      filter: drop-shadow(0px 1px 2px rgba(0, 0, 0, 0.3));\n",
              "      fill: #FFFFFF;\n",
              "    }\n",
              "  </style>\n",
              "\n",
              "      <script>\n",
              "        const buttonEl =\n",
              "          document.querySelector('#df-f7459233-69ff-4fe3-813b-82131b188a29 button.colab-df-convert');\n",
              "        buttonEl.style.display =\n",
              "          google.colab.kernel.accessAllowed ? 'block' : 'none';\n",
              "\n",
              "        async function convertToInteractive(key) {\n",
              "          const element = document.querySelector('#df-f7459233-69ff-4fe3-813b-82131b188a29');\n",
              "          const dataTable =\n",
              "            await google.colab.kernel.invokeFunction('convertToInteractive',\n",
              "                                                     [key], {});\n",
              "          if (!dataTable) return;\n",
              "\n",
              "          const docLinkHtml = 'Like what you see? Visit the ' +\n",
              "            '<a target=\"_blank\" href=https://colab.research.google.com/notebooks/data_table.ipynb>data table notebook</a>'\n",
              "            + ' to learn more about interactive tables.';\n",
              "          element.innerHTML = '';\n",
              "          dataTable['output_type'] = 'display_data';\n",
              "          await google.colab.output.renderOutput(dataTable, element);\n",
              "          const docLink = document.createElement('div');\n",
              "          docLink.innerHTML = docLinkHtml;\n",
              "          element.appendChild(docLink);\n",
              "        }\n",
              "      </script>\n",
              "    </div>\n",
              "  </div>\n",
              "  "
            ]
          },
          "metadata": {},
          "execution_count": 570
        }
      ]
    },
    {
      "cell_type": "code",
      "source": [
        "#pip install mpu\n",
        "import mpu"
      ],
      "metadata": {
        "id": "_MA4HBpw77xZ"
      },
      "execution_count": null,
      "outputs": []
    },
    {
      "cell_type": "code",
      "source": [
        "#Creating a function to calcuate distance by co-ordinates\n",
        "def calc_distance(df):\n",
        "    pickup = (df['pickup_latitude'], df['pickup_longitude'])\n",
        "    drop = (df['dropoff_latitude'], df['dropoff_longitude'])\n",
        "    return round(mpu.haversine_distance(pickup, drop),2)"
      ],
      "metadata": {
        "id": "eGkc__jw7CvX"
      },
      "execution_count": null,
      "outputs": []
    },
    {
      "cell_type": "code",
      "source": [
        "#Calculate distance and assign new column to the dataframe.\n",
        "df['distance'] = df.apply(lambda x: calc_distance(x), axis = 1)"
      ],
      "metadata": {
        "id": "Xucrc20M8usF"
      },
      "execution_count": null,
      "outputs": []
    },
    {
      "cell_type": "code",
      "source": [
        "df.head(3)"
      ],
      "metadata": {
        "colab": {
          "base_uri": "https://localhost:8080/",
          "height": 260
        },
        "id": "a2huANbi-Uvi",
        "outputId": "52aa635e-3042-443d-c7ae-4090d806169a"
      },
      "execution_count": null,
      "outputs": [
        {
          "output_type": "execute_result",
          "data": {
            "text/plain": [
              "          id  vendor_id     pickup_datetime    dropoff_datetime  \\\n",
              "0  id2875421          2 2016-03-14 17:24:55 2016-03-14 17:32:30   \n",
              "1  id2377394          1 2016-06-12 00:43:35 2016-06-12 00:54:38   \n",
              "2  id3858529          2 2016-01-19 11:35:24 2016-01-19 12:10:48   \n",
              "\n",
              "   passenger_count  pickup_longitude  pickup_latitude  dropoff_longitude  \\\n",
              "0                1        -73.982155        40.767937         -73.964630   \n",
              "1                1        -73.980415        40.738564         -73.999481   \n",
              "2                1        -73.979027        40.763939         -74.005333   \n",
              "\n",
              "   dropoff_latitude store_and_fwd_flag  trip_duration  pickup_day  \\\n",
              "0         40.765602                  N            455          14   \n",
              "1         40.731152                  N            663          12   \n",
              "2         40.710087                  N           2124          19   \n",
              "\n",
              "   pickup_hour  pickup_month  weekday  distance  \n",
              "0           17             3        0      1.50  \n",
              "1            0             6        6      1.81  \n",
              "2           11             1        1      6.39  "
            ],
            "text/html": [
              "\n",
              "  <div id=\"df-c1fb6a0a-765a-4227-83ce-4c4a2e8898a1\">\n",
              "    <div class=\"colab-df-container\">\n",
              "      <div>\n",
              "<style scoped>\n",
              "    .dataframe tbody tr th:only-of-type {\n",
              "        vertical-align: middle;\n",
              "    }\n",
              "\n",
              "    .dataframe tbody tr th {\n",
              "        vertical-align: top;\n",
              "    }\n",
              "\n",
              "    .dataframe thead th {\n",
              "        text-align: right;\n",
              "    }\n",
              "</style>\n",
              "<table border=\"1\" class=\"dataframe\">\n",
              "  <thead>\n",
              "    <tr style=\"text-align: right;\">\n",
              "      <th></th>\n",
              "      <th>id</th>\n",
              "      <th>vendor_id</th>\n",
              "      <th>pickup_datetime</th>\n",
              "      <th>dropoff_datetime</th>\n",
              "      <th>passenger_count</th>\n",
              "      <th>pickup_longitude</th>\n",
              "      <th>pickup_latitude</th>\n",
              "      <th>dropoff_longitude</th>\n",
              "      <th>dropoff_latitude</th>\n",
              "      <th>store_and_fwd_flag</th>\n",
              "      <th>trip_duration</th>\n",
              "      <th>pickup_day</th>\n",
              "      <th>pickup_hour</th>\n",
              "      <th>pickup_month</th>\n",
              "      <th>weekday</th>\n",
              "      <th>distance</th>\n",
              "    </tr>\n",
              "  </thead>\n",
              "  <tbody>\n",
              "    <tr>\n",
              "      <th>0</th>\n",
              "      <td>id2875421</td>\n",
              "      <td>2</td>\n",
              "      <td>2016-03-14 17:24:55</td>\n",
              "      <td>2016-03-14 17:32:30</td>\n",
              "      <td>1</td>\n",
              "      <td>-73.982155</td>\n",
              "      <td>40.767937</td>\n",
              "      <td>-73.964630</td>\n",
              "      <td>40.765602</td>\n",
              "      <td>N</td>\n",
              "      <td>455</td>\n",
              "      <td>14</td>\n",
              "      <td>17</td>\n",
              "      <td>3</td>\n",
              "      <td>0</td>\n",
              "      <td>1.50</td>\n",
              "    </tr>\n",
              "    <tr>\n",
              "      <th>1</th>\n",
              "      <td>id2377394</td>\n",
              "      <td>1</td>\n",
              "      <td>2016-06-12 00:43:35</td>\n",
              "      <td>2016-06-12 00:54:38</td>\n",
              "      <td>1</td>\n",
              "      <td>-73.980415</td>\n",
              "      <td>40.738564</td>\n",
              "      <td>-73.999481</td>\n",
              "      <td>40.731152</td>\n",
              "      <td>N</td>\n",
              "      <td>663</td>\n",
              "      <td>12</td>\n",
              "      <td>0</td>\n",
              "      <td>6</td>\n",
              "      <td>6</td>\n",
              "      <td>1.81</td>\n",
              "    </tr>\n",
              "    <tr>\n",
              "      <th>2</th>\n",
              "      <td>id3858529</td>\n",
              "      <td>2</td>\n",
              "      <td>2016-01-19 11:35:24</td>\n",
              "      <td>2016-01-19 12:10:48</td>\n",
              "      <td>1</td>\n",
              "      <td>-73.979027</td>\n",
              "      <td>40.763939</td>\n",
              "      <td>-74.005333</td>\n",
              "      <td>40.710087</td>\n",
              "      <td>N</td>\n",
              "      <td>2124</td>\n",
              "      <td>19</td>\n",
              "      <td>11</td>\n",
              "      <td>1</td>\n",
              "      <td>1</td>\n",
              "      <td>6.39</td>\n",
              "    </tr>\n",
              "  </tbody>\n",
              "</table>\n",
              "</div>\n",
              "      <button class=\"colab-df-convert\" onclick=\"convertToInteractive('df-c1fb6a0a-765a-4227-83ce-4c4a2e8898a1')\"\n",
              "              title=\"Convert this dataframe to an interactive table.\"\n",
              "              style=\"display:none;\">\n",
              "        \n",
              "  <svg xmlns=\"http://www.w3.org/2000/svg\" height=\"24px\"viewBox=\"0 0 24 24\"\n",
              "       width=\"24px\">\n",
              "    <path d=\"M0 0h24v24H0V0z\" fill=\"none\"/>\n",
              "    <path d=\"M18.56 5.44l.94 2.06.94-2.06 2.06-.94-2.06-.94-.94-2.06-.94 2.06-2.06.94zm-11 1L8.5 8.5l.94-2.06 2.06-.94-2.06-.94L8.5 2.5l-.94 2.06-2.06.94zm10 10l.94 2.06.94-2.06 2.06-.94-2.06-.94-.94-2.06-.94 2.06-2.06.94z\"/><path d=\"M17.41 7.96l-1.37-1.37c-.4-.4-.92-.59-1.43-.59-.52 0-1.04.2-1.43.59L10.3 9.45l-7.72 7.72c-.78.78-.78 2.05 0 2.83L4 21.41c.39.39.9.59 1.41.59.51 0 1.02-.2 1.41-.59l7.78-7.78 2.81-2.81c.8-.78.8-2.07 0-2.86zM5.41 20L4 18.59l7.72-7.72 1.47 1.35L5.41 20z\"/>\n",
              "  </svg>\n",
              "      </button>\n",
              "      \n",
              "  <style>\n",
              "    .colab-df-container {\n",
              "      display:flex;\n",
              "      flex-wrap:wrap;\n",
              "      gap: 12px;\n",
              "    }\n",
              "\n",
              "    .colab-df-convert {\n",
              "      background-color: #E8F0FE;\n",
              "      border: none;\n",
              "      border-radius: 50%;\n",
              "      cursor: pointer;\n",
              "      display: none;\n",
              "      fill: #1967D2;\n",
              "      height: 32px;\n",
              "      padding: 0 0 0 0;\n",
              "      width: 32px;\n",
              "    }\n",
              "\n",
              "    .colab-df-convert:hover {\n",
              "      background-color: #E2EBFA;\n",
              "      box-shadow: 0px 1px 2px rgba(60, 64, 67, 0.3), 0px 1px 3px 1px rgba(60, 64, 67, 0.15);\n",
              "      fill: #174EA6;\n",
              "    }\n",
              "\n",
              "    [theme=dark] .colab-df-convert {\n",
              "      background-color: #3B4455;\n",
              "      fill: #D2E3FC;\n",
              "    }\n",
              "\n",
              "    [theme=dark] .colab-df-convert:hover {\n",
              "      background-color: #434B5C;\n",
              "      box-shadow: 0px 1px 3px 1px rgba(0, 0, 0, 0.15);\n",
              "      filter: drop-shadow(0px 1px 2px rgba(0, 0, 0, 0.3));\n",
              "      fill: #FFFFFF;\n",
              "    }\n",
              "  </style>\n",
              "\n",
              "      <script>\n",
              "        const buttonEl =\n",
              "          document.querySelector('#df-c1fb6a0a-765a-4227-83ce-4c4a2e8898a1 button.colab-df-convert');\n",
              "        buttonEl.style.display =\n",
              "          google.colab.kernel.accessAllowed ? 'block' : 'none';\n",
              "\n",
              "        async function convertToInteractive(key) {\n",
              "          const element = document.querySelector('#df-c1fb6a0a-765a-4227-83ce-4c4a2e8898a1');\n",
              "          const dataTable =\n",
              "            await google.colab.kernel.invokeFunction('convertToInteractive',\n",
              "                                                     [key], {});\n",
              "          if (!dataTable) return;\n",
              "\n",
              "          const docLinkHtml = 'Like what you see? Visit the ' +\n",
              "            '<a target=\"_blank\" href=https://colab.research.google.com/notebooks/data_table.ipynb>data table notebook</a>'\n",
              "            + ' to learn more about interactive tables.';\n",
              "          element.innerHTML = '';\n",
              "          dataTable['output_type'] = 'display_data';\n",
              "          await google.colab.output.renderOutput(dataTable, element);\n",
              "          const docLink = document.createElement('div');\n",
              "          docLink.innerHTML = docLinkHtml;\n",
              "          element.appendChild(docLink);\n",
              "        }\n",
              "      </script>\n",
              "    </div>\n",
              "  </div>\n",
              "  "
            ]
          },
          "metadata": {},
          "execution_count": 577
        }
      ]
    },
    {
      "cell_type": "code",
      "source": [
        "# checking null values\n",
        "df.isnull().sum()"
      ],
      "metadata": {
        "colab": {
          "base_uri": "https://localhost:8080/"
        },
        "id": "GHqoy1I-ni9C",
        "outputId": "ee9ee108-fca9-442e-f521-06c11fa978cc"
      },
      "execution_count": null,
      "outputs": [
        {
          "output_type": "execute_result",
          "data": {
            "text/plain": [
              "id                    0\n",
              "vendor_id             0\n",
              "pickup_datetime       0\n",
              "dropoff_datetime      0\n",
              "passenger_count       0\n",
              "pickup_longitude      0\n",
              "pickup_latitude       0\n",
              "dropoff_longitude     0\n",
              "dropoff_latitude      0\n",
              "store_and_fwd_flag    0\n",
              "trip_duration         0\n",
              "pickup_day            0\n",
              "pickup_hour           0\n",
              "pickup_month          0\n",
              "weekday               0\n",
              "distance              0\n",
              "dtype: int64"
            ]
          },
          "metadata": {},
          "execution_count": 578
        }
      ]
    },
    {
      "cell_type": "markdown",
      "source": [
        "*we don't have any null value.*"
      ],
      "metadata": {
        "id": "S2cQdf0e-0ST"
      }
    },
    {
      "cell_type": "code",
      "source": [
        "df.info()"
      ],
      "metadata": {
        "id": "IvTUupVrEGr4",
        "outputId": "66b9ecb6-35ed-45b9-a621-5a846414ee5a",
        "colab": {
          "base_uri": "https://localhost:8080/"
        }
      },
      "execution_count": null,
      "outputs": [
        {
          "output_type": "stream",
          "name": "stdout",
          "text": [
            "<class 'pandas.core.frame.DataFrame'>\n",
            "RangeIndex: 1458644 entries, 0 to 1458643\n",
            "Data columns (total 16 columns):\n",
            " #   Column              Non-Null Count    Dtype         \n",
            "---  ------              --------------    -----         \n",
            " 0   id                  1458644 non-null  object        \n",
            " 1   vendor_id           1458644 non-null  int64         \n",
            " 2   pickup_datetime     1458644 non-null  datetime64[ns]\n",
            " 3   dropoff_datetime    1458644 non-null  datetime64[ns]\n",
            " 4   passenger_count     1458644 non-null  int64         \n",
            " 5   pickup_longitude    1458644 non-null  float64       \n",
            " 6   pickup_latitude     1458644 non-null  float64       \n",
            " 7   dropoff_longitude   1458644 non-null  float64       \n",
            " 8   dropoff_latitude    1458644 non-null  float64       \n",
            " 9   store_and_fwd_flag  1458644 non-null  object        \n",
            " 10  trip_duration       1458644 non-null  int64         \n",
            " 11  pickup_day          1458644 non-null  int64         \n",
            " 12  pickup_hour         1458644 non-null  int64         \n",
            " 13  pickup_month        1458644 non-null  int64         \n",
            " 14  weekday             1458644 non-null  int64         \n",
            " 15  distance            1458644 non-null  float64       \n",
            "dtypes: datetime64[ns](2), float64(5), int64(7), object(2)\n",
            "memory usage: 178.1+ MB\n"
          ]
        }
      ]
    },
    {
      "cell_type": "code",
      "source": [
        "df.describe()"
      ],
      "metadata": {
        "id": "QHpHmfkNDfn1",
        "outputId": "1c69984c-d209-4359-fd5b-dc88d95ac3f1",
        "colab": {
          "base_uri": "https://localhost:8080/",
          "height": 364
        }
      },
      "execution_count": null,
      "outputs": [
        {
          "output_type": "execute_result",
          "data": {
            "text/plain": [
              "          vendor_id  passenger_count  pickup_longitude  pickup_latitude  \\\n",
              "count  1.458644e+06     1.458644e+06      1.458644e+06     1.458644e+06   \n",
              "mean   1.534950e+00     1.664530e+00     -7.397349e+01     4.075092e+01   \n",
              "std    4.987772e-01     1.314242e+00      7.090186e-02     3.288119e-02   \n",
              "min    1.000000e+00     0.000000e+00     -1.219333e+02     3.435970e+01   \n",
              "25%    1.000000e+00     1.000000e+00     -7.399187e+01     4.073735e+01   \n",
              "50%    2.000000e+00     1.000000e+00     -7.398174e+01     4.075410e+01   \n",
              "75%    2.000000e+00     2.000000e+00     -7.396733e+01     4.076836e+01   \n",
              "max    2.000000e+00     9.000000e+00     -6.133553e+01     5.188108e+01   \n",
              "\n",
              "       dropoff_longitude  dropoff_latitude  trip_duration    pickup_day  \\\n",
              "count       1.458644e+06      1.458644e+06   1.458644e+06  1.458644e+06   \n",
              "mean       -7.397342e+01      4.075180e+01   9.594923e+02  1.550402e+01   \n",
              "std         7.064327e-02      3.589056e-02   5.237432e+03  8.703135e+00   \n",
              "min        -1.219333e+02      3.218114e+01   1.000000e+00  1.000000e+00   \n",
              "25%        -7.399133e+01      4.073588e+01   3.970000e+02  8.000000e+00   \n",
              "50%        -7.397975e+01      4.075452e+01   6.620000e+02  1.500000e+01   \n",
              "75%        -7.396301e+01      4.076981e+01   1.075000e+03  2.300000e+01   \n",
              "max        -6.133553e+01      4.392103e+01   3.526282e+06  3.100000e+01   \n",
              "\n",
              "        pickup_hour  pickup_month       weekday      distance  \n",
              "count  1.458644e+06  1.458644e+06  1.458644e+06  1.458644e+06  \n",
              "mean   1.360648e+01  3.516818e+00  3.050375e+00  3.440864e+00  \n",
              "std    6.399693e+00  1.681038e+00  1.954039e+00  4.296543e+00  \n",
              "min    0.000000e+00  1.000000e+00  0.000000e+00  0.000000e+00  \n",
              "25%    9.000000e+00  2.000000e+00  1.000000e+00  1.230000e+00  \n",
              "50%    1.400000e+01  4.000000e+00  3.000000e+00  2.090000e+00  \n",
              "75%    1.900000e+01  5.000000e+00  5.000000e+00  3.880000e+00  \n",
              "max    2.300000e+01  6.000000e+00  6.000000e+00  1.240910e+03  "
            ],
            "text/html": [
              "\n",
              "  <div id=\"df-b5047019-0192-4727-99bf-5830c995b122\">\n",
              "    <div class=\"colab-df-container\">\n",
              "      <div>\n",
              "<style scoped>\n",
              "    .dataframe tbody tr th:only-of-type {\n",
              "        vertical-align: middle;\n",
              "    }\n",
              "\n",
              "    .dataframe tbody tr th {\n",
              "        vertical-align: top;\n",
              "    }\n",
              "\n",
              "    .dataframe thead th {\n",
              "        text-align: right;\n",
              "    }\n",
              "</style>\n",
              "<table border=\"1\" class=\"dataframe\">\n",
              "  <thead>\n",
              "    <tr style=\"text-align: right;\">\n",
              "      <th></th>\n",
              "      <th>vendor_id</th>\n",
              "      <th>passenger_count</th>\n",
              "      <th>pickup_longitude</th>\n",
              "      <th>pickup_latitude</th>\n",
              "      <th>dropoff_longitude</th>\n",
              "      <th>dropoff_latitude</th>\n",
              "      <th>trip_duration</th>\n",
              "      <th>pickup_day</th>\n",
              "      <th>pickup_hour</th>\n",
              "      <th>pickup_month</th>\n",
              "      <th>weekday</th>\n",
              "      <th>distance</th>\n",
              "    </tr>\n",
              "  </thead>\n",
              "  <tbody>\n",
              "    <tr>\n",
              "      <th>count</th>\n",
              "      <td>1.458644e+06</td>\n",
              "      <td>1.458644e+06</td>\n",
              "      <td>1.458644e+06</td>\n",
              "      <td>1.458644e+06</td>\n",
              "      <td>1.458644e+06</td>\n",
              "      <td>1.458644e+06</td>\n",
              "      <td>1.458644e+06</td>\n",
              "      <td>1.458644e+06</td>\n",
              "      <td>1.458644e+06</td>\n",
              "      <td>1.458644e+06</td>\n",
              "      <td>1.458644e+06</td>\n",
              "      <td>1.458644e+06</td>\n",
              "    </tr>\n",
              "    <tr>\n",
              "      <th>mean</th>\n",
              "      <td>1.534950e+00</td>\n",
              "      <td>1.664530e+00</td>\n",
              "      <td>-7.397349e+01</td>\n",
              "      <td>4.075092e+01</td>\n",
              "      <td>-7.397342e+01</td>\n",
              "      <td>4.075180e+01</td>\n",
              "      <td>9.594923e+02</td>\n",
              "      <td>1.550402e+01</td>\n",
              "      <td>1.360648e+01</td>\n",
              "      <td>3.516818e+00</td>\n",
              "      <td>3.050375e+00</td>\n",
              "      <td>3.440864e+00</td>\n",
              "    </tr>\n",
              "    <tr>\n",
              "      <th>std</th>\n",
              "      <td>4.987772e-01</td>\n",
              "      <td>1.314242e+00</td>\n",
              "      <td>7.090186e-02</td>\n",
              "      <td>3.288119e-02</td>\n",
              "      <td>7.064327e-02</td>\n",
              "      <td>3.589056e-02</td>\n",
              "      <td>5.237432e+03</td>\n",
              "      <td>8.703135e+00</td>\n",
              "      <td>6.399693e+00</td>\n",
              "      <td>1.681038e+00</td>\n",
              "      <td>1.954039e+00</td>\n",
              "      <td>4.296543e+00</td>\n",
              "    </tr>\n",
              "    <tr>\n",
              "      <th>min</th>\n",
              "      <td>1.000000e+00</td>\n",
              "      <td>0.000000e+00</td>\n",
              "      <td>-1.219333e+02</td>\n",
              "      <td>3.435970e+01</td>\n",
              "      <td>-1.219333e+02</td>\n",
              "      <td>3.218114e+01</td>\n",
              "      <td>1.000000e+00</td>\n",
              "      <td>1.000000e+00</td>\n",
              "      <td>0.000000e+00</td>\n",
              "      <td>1.000000e+00</td>\n",
              "      <td>0.000000e+00</td>\n",
              "      <td>0.000000e+00</td>\n",
              "    </tr>\n",
              "    <tr>\n",
              "      <th>25%</th>\n",
              "      <td>1.000000e+00</td>\n",
              "      <td>1.000000e+00</td>\n",
              "      <td>-7.399187e+01</td>\n",
              "      <td>4.073735e+01</td>\n",
              "      <td>-7.399133e+01</td>\n",
              "      <td>4.073588e+01</td>\n",
              "      <td>3.970000e+02</td>\n",
              "      <td>8.000000e+00</td>\n",
              "      <td>9.000000e+00</td>\n",
              "      <td>2.000000e+00</td>\n",
              "      <td>1.000000e+00</td>\n",
              "      <td>1.230000e+00</td>\n",
              "    </tr>\n",
              "    <tr>\n",
              "      <th>50%</th>\n",
              "      <td>2.000000e+00</td>\n",
              "      <td>1.000000e+00</td>\n",
              "      <td>-7.398174e+01</td>\n",
              "      <td>4.075410e+01</td>\n",
              "      <td>-7.397975e+01</td>\n",
              "      <td>4.075452e+01</td>\n",
              "      <td>6.620000e+02</td>\n",
              "      <td>1.500000e+01</td>\n",
              "      <td>1.400000e+01</td>\n",
              "      <td>4.000000e+00</td>\n",
              "      <td>3.000000e+00</td>\n",
              "      <td>2.090000e+00</td>\n",
              "    </tr>\n",
              "    <tr>\n",
              "      <th>75%</th>\n",
              "      <td>2.000000e+00</td>\n",
              "      <td>2.000000e+00</td>\n",
              "      <td>-7.396733e+01</td>\n",
              "      <td>4.076836e+01</td>\n",
              "      <td>-7.396301e+01</td>\n",
              "      <td>4.076981e+01</td>\n",
              "      <td>1.075000e+03</td>\n",
              "      <td>2.300000e+01</td>\n",
              "      <td>1.900000e+01</td>\n",
              "      <td>5.000000e+00</td>\n",
              "      <td>5.000000e+00</td>\n",
              "      <td>3.880000e+00</td>\n",
              "    </tr>\n",
              "    <tr>\n",
              "      <th>max</th>\n",
              "      <td>2.000000e+00</td>\n",
              "      <td>9.000000e+00</td>\n",
              "      <td>-6.133553e+01</td>\n",
              "      <td>5.188108e+01</td>\n",
              "      <td>-6.133553e+01</td>\n",
              "      <td>4.392103e+01</td>\n",
              "      <td>3.526282e+06</td>\n",
              "      <td>3.100000e+01</td>\n",
              "      <td>2.300000e+01</td>\n",
              "      <td>6.000000e+00</td>\n",
              "      <td>6.000000e+00</td>\n",
              "      <td>1.240910e+03</td>\n",
              "    </tr>\n",
              "  </tbody>\n",
              "</table>\n",
              "</div>\n",
              "      <button class=\"colab-df-convert\" onclick=\"convertToInteractive('df-b5047019-0192-4727-99bf-5830c995b122')\"\n",
              "              title=\"Convert this dataframe to an interactive table.\"\n",
              "              style=\"display:none;\">\n",
              "        \n",
              "  <svg xmlns=\"http://www.w3.org/2000/svg\" height=\"24px\"viewBox=\"0 0 24 24\"\n",
              "       width=\"24px\">\n",
              "    <path d=\"M0 0h24v24H0V0z\" fill=\"none\"/>\n",
              "    <path d=\"M18.56 5.44l.94 2.06.94-2.06 2.06-.94-2.06-.94-.94-2.06-.94 2.06-2.06.94zm-11 1L8.5 8.5l.94-2.06 2.06-.94-2.06-.94L8.5 2.5l-.94 2.06-2.06.94zm10 10l.94 2.06.94-2.06 2.06-.94-2.06-.94-.94-2.06-.94 2.06-2.06.94z\"/><path d=\"M17.41 7.96l-1.37-1.37c-.4-.4-.92-.59-1.43-.59-.52 0-1.04.2-1.43.59L10.3 9.45l-7.72 7.72c-.78.78-.78 2.05 0 2.83L4 21.41c.39.39.9.59 1.41.59.51 0 1.02-.2 1.41-.59l7.78-7.78 2.81-2.81c.8-.78.8-2.07 0-2.86zM5.41 20L4 18.59l7.72-7.72 1.47 1.35L5.41 20z\"/>\n",
              "  </svg>\n",
              "      </button>\n",
              "      \n",
              "  <style>\n",
              "    .colab-df-container {\n",
              "      display:flex;\n",
              "      flex-wrap:wrap;\n",
              "      gap: 12px;\n",
              "    }\n",
              "\n",
              "    .colab-df-convert {\n",
              "      background-color: #E8F0FE;\n",
              "      border: none;\n",
              "      border-radius: 50%;\n",
              "      cursor: pointer;\n",
              "      display: none;\n",
              "      fill: #1967D2;\n",
              "      height: 32px;\n",
              "      padding: 0 0 0 0;\n",
              "      width: 32px;\n",
              "    }\n",
              "\n",
              "    .colab-df-convert:hover {\n",
              "      background-color: #E2EBFA;\n",
              "      box-shadow: 0px 1px 2px rgba(60, 64, 67, 0.3), 0px 1px 3px 1px rgba(60, 64, 67, 0.15);\n",
              "      fill: #174EA6;\n",
              "    }\n",
              "\n",
              "    [theme=dark] .colab-df-convert {\n",
              "      background-color: #3B4455;\n",
              "      fill: #D2E3FC;\n",
              "    }\n",
              "\n",
              "    [theme=dark] .colab-df-convert:hover {\n",
              "      background-color: #434B5C;\n",
              "      box-shadow: 0px 1px 3px 1px rgba(0, 0, 0, 0.15);\n",
              "      filter: drop-shadow(0px 1px 2px rgba(0, 0, 0, 0.3));\n",
              "      fill: #FFFFFF;\n",
              "    }\n",
              "  </style>\n",
              "\n",
              "      <script>\n",
              "        const buttonEl =\n",
              "          document.querySelector('#df-b5047019-0192-4727-99bf-5830c995b122 button.colab-df-convert');\n",
              "        buttonEl.style.display =\n",
              "          google.colab.kernel.accessAllowed ? 'block' : 'none';\n",
              "\n",
              "        async function convertToInteractive(key) {\n",
              "          const element = document.querySelector('#df-b5047019-0192-4727-99bf-5830c995b122');\n",
              "          const dataTable =\n",
              "            await google.colab.kernel.invokeFunction('convertToInteractive',\n",
              "                                                     [key], {});\n",
              "          if (!dataTable) return;\n",
              "\n",
              "          const docLinkHtml = 'Like what you see? Visit the ' +\n",
              "            '<a target=\"_blank\" href=https://colab.research.google.com/notebooks/data_table.ipynb>data table notebook</a>'\n",
              "            + ' to learn more about interactive tables.';\n",
              "          element.innerHTML = '';\n",
              "          dataTable['output_type'] = 'display_data';\n",
              "          await google.colab.output.renderOutput(dataTable, element);\n",
              "          const docLink = document.createElement('div');\n",
              "          docLink.innerHTML = docLinkHtml;\n",
              "          element.appendChild(docLink);\n",
              "        }\n",
              "      </script>\n",
              "    </div>\n",
              "  </div>\n",
              "  "
            ]
          },
          "metadata": {},
          "execution_count": 580
        }
      ]
    },
    {
      "cell_type": "markdown",
      "source": [
        "#### EDA"
      ],
      "metadata": {
        "id": "rt6PMRuO5Cn6"
      }
    },
    {
      "cell_type": "markdown",
      "source": [
        "## Id column"
      ],
      "metadata": {
        "id": "LVCVCRU_6dVp"
      }
    },
    {
      "cell_type": "code",
      "source": [
        "df['id'].nunique()"
      ],
      "metadata": {
        "colab": {
          "base_uri": "https://localhost:8080/"
        },
        "id": "JV-BOIAu6lFg",
        "outputId": "e80f9943-3530-4b1a-df14-7d07d68df649"
      },
      "execution_count": null,
      "outputs": [
        {
          "output_type": "execute_result",
          "data": {
            "text/plain": [
              "1458644"
            ]
          },
          "metadata": {},
          "execution_count": 581
        }
      ]
    },
    {
      "cell_type": "markdown",
      "source": [
        "# Observation\n",
        "\n",
        "1.   All id values are unique.\n",
        "\n"
      ],
      "metadata": {
        "id": "u_2wn6zM6zSE"
      }
    },
    {
      "cell_type": "markdown",
      "source": [
        "## Passenger count"
      ],
      "metadata": {
        "id": "lBexG39Ys1tq"
      }
    },
    {
      "cell_type": "code",
      "source": [
        "# ploting graph for passenger_count\n",
        "plt.figure(figsize=(12,5))\n",
        "vis=sns.countplot(x=df['passenger_count'])\n",
        "plt.title('number of passenger')"
      ],
      "metadata": {
        "colab": {
          "base_uri": "https://localhost:8080/",
          "height": 367
        },
        "id": "Co41c6-Hsz9F",
        "outputId": "1023ce0e-44fc-4669-c72a-96b5e82bfe84"
      },
      "execution_count": null,
      "outputs": [
        {
          "output_type": "execute_result",
          "data": {
            "text/plain": [
              "Text(0.5, 1.0, 'number of passenger')"
            ]
          },
          "metadata": {},
          "execution_count": 707
        },
        {
          "output_type": "display_data",
          "data": {
            "text/plain": [
              "<Figure size 864x360 with 1 Axes>"
            ],
            "image/png": "[encoded data removed]"
          },
          "metadata": {
            "needs_background": "light"
          }
        }
      ]
    },
    {
      "cell_type": "code",
      "source": [
        "# ploting boxplot graph \n",
        "plt.figure(figsize=(20,5))\n",
        "sns.boxplot(df['passenger_count'])\n",
        "plt.title('Passenger Count Distribution')"
      ],
      "metadata": {
        "colab": {
          "base_uri": "https://localhost:8080/",
          "height": 422
        },
        "id": "A2sKA6ALU5q5",
        "outputId": "8c708ec6-044b-4781-dc94-f3413b7fe6a6"
      },
      "execution_count": null,
      "outputs": [
        {
          "output_type": "stream",
          "name": "stderr",
          "text": [
            "/usr/local/lib/python3.7/dist-packages/seaborn/_decorators.py:43: FutureWarning: Pass the following variable as a keyword arg: x. From version 0.12, the only valid positional argument will be `data`, and passing other arguments without an explicit keyword will result in an error or misinterpretation.\n",
            "  FutureWarning\n"
          ]
        },
        {
          "output_type": "execute_result",
          "data": {
            "text/plain": [
              "Text(0.5, 1.0, 'Passenger Count Distribution')"
            ]
          },
          "metadata": {},
          "execution_count": 584
        },
        {
          "output_type": "display_data",
          "data": {
            "text/plain": [
              "<Figure size 1440x360 with 1 Axes>"
            ],
            "image/png": "[encoded data removed]"
          },
          "metadata": {
            "needs_background": "light"
          }
        }
      ]
    },
    {
      "cell_type": "code",
      "source": [
        "no_of_passenger = df['passenger_count'].value_counts()\n",
        "no_of_passenger"
      ],
      "metadata": {
        "colab": {
          "base_uri": "https://localhost:8080/"
        },
        "id": "Kq84wN1Yt0tn",
        "outputId": "e49198d5-9d92-48aa-b920-d27ae872b695"
      },
      "execution_count": null,
      "outputs": [
        {
          "output_type": "execute_result",
          "data": {
            "text/plain": [
              "1    1033540\n",
              "2     210318\n",
              "5      78088\n",
              "3      59896\n",
              "6      48333\n",
              "4      28404\n",
              "0         60\n",
              "7          3\n",
              "9          1\n",
              "8          1\n",
              "Name: passenger_count, dtype: int64"
            ]
          },
          "metadata": {},
          "execution_count": 585
        }
      ]
    },
    {
      "cell_type": "markdown",
      "source": [
        "# Observation\n",
        "\n",
        "1.   Most of the trip consist 1 or 2 passenger. \n",
        "2.   There are also some trips with 0 passenger count. \n",
        "\n"
      ],
      "metadata": {
        "id": "EybTT1glwtfT"
      }
    },
    {
      "cell_type": "markdown",
      "source": [
        "**WE will remove the records with passenger count > 7 and replacing passenger count 0 with 1**"
      ],
      "metadata": {
        "id": "9rvWW7Jgzigb"
      }
    },
    {
      "cell_type": "code",
      "source": [
        "df['passenger_count'] = df.passenger_count.map(lambda x: 1 if x == 0 else x)\n",
        "df = df[df.passenger_count <=6]"
      ],
      "metadata": {
        "id": "hVbGkLm6zUu3"
      },
      "execution_count": null,
      "outputs": []
    },
    {
      "cell_type": "code",
      "source": [
        "df.passenger_count.value_counts()"
      ],
      "metadata": {
        "colab": {
          "base_uri": "https://localhost:8080/"
        },
        "id": "7AezGiMCxoke",
        "outputId": "780e9112-874c-4452-f964-903b5c7ee950"
      },
      "execution_count": null,
      "outputs": [
        {
          "output_type": "execute_result",
          "data": {
            "text/plain": [
              "1    1033600\n",
              "2     210318\n",
              "5      78088\n",
              "3      59896\n",
              "6      48333\n",
              "4      28404\n",
              "Name: passenger_count, dtype: int64"
            ]
          },
          "metadata": {},
          "execution_count": 587
        }
      ]
    },
    {
      "cell_type": "code",
      "source": [
        "plt.figure(figsize=(20,5))\n",
        "vis=sns.countplot(x=df['passenger_count'])\n",
        "plt.title('number of passenger')"
      ],
      "metadata": {
        "colab": {
          "base_uri": "https://localhost:8080/",
          "height": 365
        },
        "id": "wJXfCxEn1ERU",
        "outputId": "641ff8bd-7422-4b93-bd10-608d375c2ef7"
      },
      "execution_count": null,
      "outputs": [
        {
          "output_type": "execute_result",
          "data": {
            "text/plain": [
              "Text(0.5, 1.0, 'number of passenger')"
            ]
          },
          "metadata": {},
          "execution_count": 590
        },
        {
          "output_type": "display_data",
          "data": {
            "text/plain": [
              "<Figure size 1440x360 with 1 Axes>"
            ],
            "image/png": "[encoded data removed]"
          },
          "metadata": {
            "needs_background": "light"
          }
        }
      ]
    },
    {
      "cell_type": "markdown",
      "source": [
        "## Vendor"
      ],
      "metadata": {
        "id": "3Ydpi5a1AM0c"
      }
    },
    {
      "cell_type": "code",
      "source": [
        "# ploting graph for vendor id\n",
        "plt.figure(figsize=(10,5))\n",
        "vis=sns.countplot(x=df['vendor_id'])"
      ],
      "metadata": {
        "colab": {
          "base_uri": "https://localhost:8080/",
          "height": 335
        },
        "id": "-vUq_ufJ1Ur8",
        "outputId": "771f601a-f434-4d6b-92d2-00c63ec84022"
      },
      "execution_count": null,
      "outputs": [
        {
          "output_type": "display_data",
          "data": {
            "text/plain": [
              "<Figure size 720x360 with 1 Axes>"
            ],
            "image/png": "[encoded data removed]"
          },
          "metadata": {
            "needs_background": "light"
          }
        }
      ]
    },
    {
      "cell_type": "markdown",
      "source": [
        "# Observation\n",
        "\n",
        "\n",
        "*   Vendor 2 is evidently more famous among the population.\n",
        "\n"
      ],
      "metadata": {
        "id": "krA35uwQATN5"
      }
    },
    {
      "cell_type": "markdown",
      "source": [
        "## Pickup  data"
      ],
      "metadata": {
        "id": "UC4V99koAZf-"
      }
    },
    {
      "cell_type": "code",
      "source": [
        "# based on hours\n",
        "plt.figure(figsize = (12,5))\n",
        "sns.countplot(df.pickup_hour)\n",
        "plt.xlabel(' pickup hour ')\n",
        "plt.ylabel('Pickup counts')\n",
        "plt.show()"
      ],
      "metadata": {
        "colab": {
          "base_uri": "https://localhost:8080/",
          "height": 389
        },
        "id": "odTtQG_XCVuY",
        "outputId": "67c8de86-1e64-415c-eaec-bd8f945a2fb9"
      },
      "execution_count": null,
      "outputs": [
        {
          "output_type": "stream",
          "name": "stderr",
          "text": [
            "/usr/local/lib/python3.7/dist-packages/seaborn/_decorators.py:43: FutureWarning: Pass the following variable as a keyword arg: x. From version 0.12, the only valid positional argument will be `data`, and passing other arguments without an explicit keyword will result in an error or misinterpretation.\n",
            "  FutureWarning\n"
          ]
        },
        {
          "output_type": "display_data",
          "data": {
            "text/plain": [
              "<Figure size 864x360 with 1 Axes>"
            ],
            "image/png": "[encoded data removed]"
          },
          "metadata": {
            "needs_background": "light"
          }
        }
      ]
    },
    {
      "cell_type": "markdown",
      "source": [
        "# Observation\n",
        "\n",
        "*   Most of pickups at between 5 PM to 9 PM.\n",
        "*   Some taxi also pickup at 5 AM and 6 AM .\n",
        "\n"
      ],
      "metadata": {
        "id": "I4MYM-1OY0B1"
      }
    },
    {
      "cell_type": "code",
      "source": [
        "# For weekday\n",
        "plt.figure(figsize = (12,5))\n",
        "sns.countplot(df.weekday)\n",
        "plt.xticks([0,1,2,3,4,5,6], labels=['sun','mon','tue','wed','thru','fri','sat'])\n",
        "plt.xlabel(' week days')\n",
        "plt.ylabel('Pickup counts')\n",
        "plt.show()"
      ],
      "metadata": {
        "colab": {
          "base_uri": "https://localhost:8080/",
          "height": 389
        },
        "id": "fQ6yLy4bAyxe",
        "outputId": "8da320d7-c34e-4216-9917-2cc9d26ca428"
      },
      "execution_count": null,
      "outputs": [
        {
          "output_type": "stream",
          "name": "stderr",
          "text": [
            "/usr/local/lib/python3.7/dist-packages/seaborn/_decorators.py:43: FutureWarning: Pass the following variable as a keyword arg: x. From version 0.12, the only valid positional argument will be `data`, and passing other arguments without an explicit keyword will result in an error or misinterpretation.\n",
            "  FutureWarning\n"
          ]
        },
        {
          "output_type": "display_data",
          "data": {
            "text/plain": [
              "<Figure size 864x360 with 1 Axes>"
            ],
            "image/png": "[encoded data removed]"
          },
          "metadata": {
            "needs_background": "light"
          }
        }
      ]
    },
    {
      "cell_type": "code",
      "source": [
        "df['weekday'].value_counts()"
      ],
      "metadata": {
        "colab": {
          "base_uri": "https://localhost:8080/"
        },
        "id": "8pznnfeVBWZw",
        "outputId": "6b7fc342-2938-43fb-a61d-0dd0e8edfe5b"
      },
      "execution_count": null,
      "outputs": [
        {
          "output_type": "execute_result",
          "data": {
            "text/plain": [
              "4    223531\n",
              "5    220867\n",
              "3    218574\n",
              "2    210136\n",
              "1    202748\n",
              "6    195365\n",
              "0    187418\n",
              "Name: weekday, dtype: int64"
            ]
          },
          "metadata": {},
          "execution_count": 600
        }
      ]
    },
    {
      "cell_type": "markdown",
      "source": [
        "#Observaation\n",
        "\n",
        "*   Here we can see that Fridays and Saturdays are those days in a week when peoples prefer to rome in the city.\n",
        "\n",
        "\n"
      ],
      "metadata": {
        "id": "tGgHWGL2CtKO"
      }
    },
    {
      "cell_type": "code",
      "source": [
        "# for months\n",
        "plt.figure(figsize=(12,5))\n",
        "sns.countplot(df['pickup_month'], palette='Accent')\n",
        "plt.xticks([0,1,2,3,4,5], labels=['Jan','Feb','March','April','May','June'])\n",
        "plt.title('Monthly trips')"
      ],
      "metadata": {
        "colab": {
          "base_uri": "https://localhost:8080/",
          "height": 423
        },
        "id": "NQOdyYGGBJ0W",
        "outputId": "06996a37-979d-4255-a3c5-78d8fcd62415"
      },
      "execution_count": null,
      "outputs": [
        {
          "output_type": "stream",
          "name": "stderr",
          "text": [
            "/usr/local/lib/python3.7/dist-packages/seaborn/_decorators.py:43: FutureWarning: Pass the following variable as a keyword arg: x. From version 0.12, the only valid positional argument will be `data`, and passing other arguments without an explicit keyword will result in an error or misinterpretation.\n",
            "  FutureWarning\n"
          ]
        },
        {
          "output_type": "execute_result",
          "data": {
            "text/plain": [
              "Text(0.5, 1.0, 'Monthly trips')"
            ]
          },
          "metadata": {},
          "execution_count": 601
        },
        {
          "output_type": "display_data",
          "data": {
            "text/plain": [
              "<Figure size 864x360 with 1 Axes>"
            ],
            "image/png": "[encoded data removed]"
          },
          "metadata": {
            "needs_background": "light"
          }
        }
      ]
    },
    {
      "cell_type": "markdown",
      "source": [
        "#observation\n",
        "\n",
        "*   We've data of 6 months.\n",
        "*   Number of trips in a particular month - March and April marking the highest.\n",
        "\n",
        "\n"
      ],
      "metadata": {
        "id": "zNglFbNVC67H"
      }
    },
    {
      "cell_type": "markdown",
      "source": [
        "## Distance\n",
        "\n",
        "\n"
      ],
      "metadata": {
        "id": "CS5O4zHBGKIY"
      }
    },
    {
      "cell_type": "code",
      "source": [
        "plt.figure(figsize = (20,5))\n",
        "sns.boxplot(df.distance)\n",
        "plt.show()"
      ],
      "metadata": {
        "colab": {
          "base_uri": "https://localhost:8080/",
          "height": 389
        },
        "id": "TGjUo61YHJHv",
        "outputId": "b73861e6-7eec-4afd-bda8-bdc322905ab9"
      },
      "execution_count": null,
      "outputs": [
        {
          "output_type": "stream",
          "name": "stderr",
          "text": [
            "/usr/local/lib/python3.7/dist-packages/seaborn/_decorators.py:43: FutureWarning: Pass the following variable as a keyword arg: x. From version 0.12, the only valid positional argument will be `data`, and passing other arguments without an explicit keyword will result in an error or misinterpretation.\n",
            "  FutureWarning\n"
          ]
        },
        {
          "output_type": "display_data",
          "data": {
            "text/plain": [
              "<Figure size 1440x360 with 1 Axes>"
            ],
            "image/png": "[encoded data removed]"
          },
          "metadata": {
            "needs_background": "light"
          }
        }
      ]
    },
    {
      "cell_type": "code",
      "source": [
        "df.distance.describe()"
      ],
      "metadata": {
        "colab": {
          "base_uri": "https://localhost:8080/"
        },
        "id": "0aGg2PuVHW5g",
        "outputId": "94908061-cfeb-43af-f7bd-bfcddbb22648"
      },
      "execution_count": null,
      "outputs": [
        {
          "output_type": "execute_result",
          "data": {
            "text/plain": [
              "count    1.458639e+06\n",
              "mean     3.440872e+00\n",
              "std      4.296546e+00\n",
              "min      0.000000e+00\n",
              "25%      1.230000e+00\n",
              "50%      2.090000e+00\n",
              "75%      3.880000e+00\n",
              "max      1.240910e+03\n",
              "Name: distance, dtype: float64"
            ]
          },
          "metadata": {},
          "execution_count": 604
        }
      ]
    },
    {
      "cell_type": "markdown",
      "source": [
        "# Observation\n",
        "\n",
        "*   Average distance travelled is approx 3.5 kms.\n",
        "*   Most of the trips are limited to the range of 1-10 kms.\n",
        "\n"
      ],
      "metadata": {
        "id": "K_K3CKQpVlau"
      }
    },
    {
      "cell_type": "markdown",
      "source": [
        "## Trip duration"
      ],
      "metadata": {
        "id": "GUj2xJjwVo9r"
      }
    },
    {
      "cell_type": "code",
      "source": [
        "plt.figure(figsize = (20,7))\n",
        "sns.boxplot(df.trip_duration)\n",
        "plt.show()"
      ],
      "metadata": {
        "colab": {
          "base_uri": "https://localhost:8080/",
          "height": 498
        },
        "id": "mqmiiWeOWQup",
        "outputId": "62dde9fa-1db1-43a0-c1be-ac0d66bc1bfe"
      },
      "execution_count": null,
      "outputs": [
        {
          "output_type": "stream",
          "name": "stderr",
          "text": [
            "/usr/local/lib/python3.7/dist-packages/seaborn/_decorators.py:43: FutureWarning: Pass the following variable as a keyword arg: x. From version 0.12, the only valid positional argument will be `data`, and passing other arguments without an explicit keyword will result in an error or misinterpretation.\n",
            "  FutureWarning\n"
          ]
        },
        {
          "output_type": "display_data",
          "data": {
            "text/plain": [
              "<Figure size 1440x504 with 1 Axes>"
            ],
            "image/png": "[encoded data removed]"
          },
          "metadata": {
            "needs_background": "light"
          }
        }
      ]
    },
    {
      "cell_type": "code",
      "source": [
        "df['trip_duration'].describe()"
      ],
      "metadata": {
        "colab": {
          "base_uri": "https://localhost:8080/"
        },
        "id": "6juRwntlWXr5",
        "outputId": "93100b9b-b208-4f07-9ed7-3027421b3340"
      },
      "execution_count": null,
      "outputs": [
        {
          "output_type": "execute_result",
          "data": {
            "text/plain": [
              "count    1.458639e+06\n",
              "mean     9.594951e+02\n",
              "std      5.237440e+03\n",
              "min      1.000000e+00\n",
              "25%      3.970000e+02\n",
              "50%      6.620000e+02\n",
              "75%      1.075000e+03\n",
              "max      3.526282e+06\n",
              "Name: trip_duration, dtype: float64"
            ]
          },
          "metadata": {},
          "execution_count": 606
        }
      ]
    },
    {
      "cell_type": "code",
      "source": [
        "df.trip_duration.groupby(pd.cut(df.trip_duration, np.arange(1,max(df.trip_duration),3600))).count()"
      ],
      "metadata": {
        "colab": {
          "base_uri": "https://localhost:8080/"
        },
        "id": "ygXd0Q2lW4QB",
        "outputId": "99b948bc-55d6-4f56-bc27-5c21440836a8"
      },
      "execution_count": null,
      "outputs": [
        {
          "output_type": "execute_result",
          "data": {
            "text/plain": [
              "trip_duration\n",
              "(1, 3601]             1446308\n",
              "(3601, 7201]            10045\n",
              "(7201, 10801]             141\n",
              "(10801, 14401]             35\n",
              "(14401, 18001]              5\n",
              "                       ...   \n",
              "(3506401, 3510001]          0\n",
              "(3510001, 3513601]          0\n",
              "(3513601, 3517201]          0\n",
              "(3517201, 3520801]          0\n",
              "(3520801, 3524401]          0\n",
              "Name: trip_duration, Length: 979, dtype: int64"
            ]
          },
          "metadata": {},
          "execution_count": 607
        }
      ]
    },
    {
      "cell_type": "code",
      "source": [
        "df.trip_duration.groupby(pd.cut(df.trip_duration, np.arange(1,7200,600))).count().plot(kind='barh')\n",
        "plt.xlabel('Trip Counts')\n",
        "plt.ylabel('Trip Duration (seconds)')\n",
        "plt.show()"
      ],
      "metadata": {
        "colab": {
          "base_uri": "https://localhost:8080/",
          "height": 279
        },
        "id": "qNnndHFWXWMh",
        "outputId": "fc43d6b0-7b17-4bdb-9c70-9c6aefc98747"
      },
      "execution_count": null,
      "outputs": [
        {
          "output_type": "display_data",
          "data": {
            "text/plain": [
              "<Figure size 432x288 with 1 Axes>"
            ],
            "image/png": "[encoded data removed]"
          },
          "metadata": {
            "needs_background": "light"
          }
        }
      ]
    },
    {
      "cell_type": "markdown",
      "source": [
        "# observation\n",
        "\n",
        "*   Most of the ride are of 10 min.\n",
        "\n"
      ],
      "metadata": {
        "id": "5xBkYylSaoLO"
      }
    },
    {
      "cell_type": "markdown",
      "source": [
        "## Store and fwd flag"
      ],
      "metadata": {
        "id": "7rtQvXn5c-pz"
      }
    },
    {
      "cell_type": "code",
      "source": [
        "plt.figure(figsize=(8,8))\n",
        "plt.pie(df['store_and_fwd_flag'].value_counts(),colors=['lightgreen', 'yellow'],shadow=True,explode=[0.5,0], autopct='%1.2f%%', startangle=45)\n",
        "plt.legend(labels=['Y','N'])\n",
        "plt.show()"
      ],
      "metadata": {
        "colab": {
          "base_uri": "https://localhost:8080/",
          "height": 487
        },
        "id": "4GvYU77cd6tj",
        "outputId": "118f1865-6c27-4d1f-a8e3-32d4581cff17"
      },
      "execution_count": null,
      "outputs": [
        {
          "output_type": "display_data",
          "data": {
            "text/plain": [
              "<Figure size 576x576 with 1 Axes>"
            ],
            "image/png": "[encoded data removed]"
          },
          "metadata": {}
        }
      ]
    },
    {
      "cell_type": "code",
      "source": [
        "df['store_and_fwd_flag'].value_counts()"
      ],
      "metadata": {
        "colab": {
          "base_uri": "https://localhost:8080/"
        },
        "id": "5aCf_pfCf55n",
        "outputId": "977a0ae6-c67a-4cc2-f6c6-c41347c6beb2"
      },
      "execution_count": null,
      "outputs": [
        {
          "output_type": "execute_result",
          "data": {
            "text/plain": [
              "N    1450594\n",
              "Y       8045\n",
              "Name: store_and_fwd_flag, dtype: int64"
            ]
          },
          "metadata": {},
          "execution_count": 611
        }
      ]
    },
    {
      "cell_type": "markdown",
      "source": [
        "# Observation\n",
        "\n",
        "\n",
        "*   There were very few trips (0.55%) of which the records were not stored in memory.\n",
        "\n"
      ],
      "metadata": {
        "id": "p_4XFn1tfcSk"
      }
    },
    {
      "cell_type": "markdown",
      "source": [
        "##Trip Duration per hour"
      ],
      "metadata": {
        "id": "kqw3YYDnXWBA"
      }
    },
    {
      "cell_type": "code",
      "source": [
        "plt.figure(figsize=(10,7))\n",
        "vis = df.groupby('pickup_hour').trip_duration.mean()\n",
        "sns.pointplot(vis.index, vis.values)\n",
        "plt.ylabel('Trip Duration (seconds)')\n",
        "plt.xlabel('Pickup Hour')\n",
        "plt.show()"
      ],
      "metadata": {
        "colab": {
          "base_uri": "https://localhost:8080/",
          "height": 497
        },
        "id": "aKOgzqLuXIl1",
        "outputId": "f8216ef2-ade8-48aa-db1f-cc2306135c93"
      },
      "execution_count": null,
      "outputs": [
        {
          "output_type": "stream",
          "name": "stderr",
          "text": [
            "/usr/local/lib/python3.7/dist-packages/seaborn/_decorators.py:43: FutureWarning: Pass the following variables as keyword args: x, y. From version 0.12, the only valid positional argument will be `data`, and passing other arguments without an explicit keyword will result in an error or misinterpretation.\n",
            "  FutureWarning\n"
          ]
        },
        {
          "output_type": "display_data",
          "data": {
            "text/plain": [
              "<Figure size 720x504 with 1 Axes>"
            ],
            "image/png": "[encoded data removed]"
          },
          "metadata": {
            "needs_background": "light"
          }
        }
      ]
    },
    {
      "cell_type": "markdown",
      "source": [
        "# Observation\n",
        "Average trip duration is lowest at 6 AM when there is minimal traffic on the roads.\n",
        "\n",
        "Average trip duration is generally highest around 3 PM during the busy streets.\n",
        "\n",
        "Trip duration on an average is similar during early morning hours"
      ],
      "metadata": {
        "id": "fhXR4rEMXh_Z"
      }
    },
    {
      "cell_type": "markdown",
      "source": [
        "## Trip duration per month"
      ],
      "metadata": {
        "id": "LA-M9Ca6ZG_4"
      }
    },
    {
      "cell_type": "code",
      "source": [
        "plt.figure(figsize=(10,7))\n",
        "vis2 = df.groupby('pickup_month').trip_duration.mean()\n",
        "sns.pointplot(vis2.index, vis2.values)\n",
        "plt.ylabel('Trip Duration (seconds)')\n",
        "plt.xlabel('Month')\n",
        "plt.show()"
      ],
      "metadata": {
        "colab": {
          "base_uri": "https://localhost:8080/",
          "height": 497
        },
        "id": "d57ztRa5X35P",
        "outputId": "7c7fa236-9ca0-404f-9c32-311a182ddce5"
      },
      "execution_count": null,
      "outputs": [
        {
          "output_type": "stream",
          "name": "stderr",
          "text": [
            "/usr/local/lib/python3.7/dist-packages/seaborn/_decorators.py:43: FutureWarning: Pass the following variables as keyword args: x, y. From version 0.12, the only valid positional argument will be `data`, and passing other arguments without an explicit keyword will result in an error or misinterpretation.\n",
            "  FutureWarning\n"
          ]
        },
        {
          "output_type": "display_data",
          "data": {
            "text/plain": [
              "<Figure size 720x504 with 1 Axes>"
            ],
            "image/png": "[encoded data removed]"
          },
          "metadata": {
            "needs_background": "light"
          }
        }
      ]
    },
    {
      "cell_type": "markdown",
      "source": [
        "# Observation\n",
        "\n",
        "\n",
        "*   It is lowest during february when winters starts declining.\n",
        "*   We can see an increasing trend in the average trip duration along with each subsequent month. \n",
        "*   The duration difference between each month is not much. It has increased gradually over a period of 6 months.\n",
        "\n",
        "\n",
        "\n",
        "\n"
      ],
      "metadata": {
        "id": "FnWFeajHYp2s"
      }
    },
    {
      "cell_type": "markdown",
      "source": [
        "## Trip duration per vendor"
      ],
      "metadata": {
        "id": "g_NZWT8QZSUf"
      }
    },
    {
      "cell_type": "code",
      "source": [
        "plt.figure(figsize = (6,5))\n",
        "vis3 = df.loc[(df.trip_duration < 10000)]\n",
        "sns.boxplot(x = \"store_and_fwd_flag\", y = \"trip_duration\", data = vis3)\n",
        "plt.show()"
      ],
      "metadata": {
        "colab": {
          "base_uri": "https://localhost:8080/",
          "height": 335
        },
        "id": "MIATfnB0ZvAU",
        "outputId": "647205c2-288e-4b08-95f0-fae1e3ff229d"
      },
      "execution_count": null,
      "outputs": [
        {
          "output_type": "display_data",
          "data": {
            "text/plain": [
              "<Figure size 432x360 with 1 Axes>"
            ],
            "image/png": "[encoded data removed]"
          },
          "metadata": {
            "needs_background": "light"
          }
        }
      ]
    },
    {
      "cell_type": "markdown",
      "source": [
        "# Observation\n",
        "\n",
        "\n",
        "*   Trip duration is longer for the trips where the flag is not set.\n",
        "*   Inter quartile range of trip duration is more for the trips with the flag 'Y' as compared to the trips with flag 'N'.\n",
        "\n",
        "*   The median value is almost equal for both.\n",
        "\n",
        "\n",
        "\n",
        "\n"
      ],
      "metadata": {
        "id": "5LgUaOzlaXVV"
      }
    },
    {
      "cell_type": "markdown",
      "source": [
        "## Distance per hour"
      ],
      "metadata": {
        "id": "I7abAeooaznp"
      }
    },
    {
      "cell_type": "code",
      "source": [
        "plt.figure(figsize = (8,5))\n",
        "vis4 = df.groupby('pickup_hour').distance.mean()\n",
        "sns.pointplot(vis4.index, vis4.values)\n",
        "plt.ylabel('Distance (km)')\n",
        "plt.show()"
      ],
      "metadata": {
        "colab": {
          "base_uri": "https://localhost:8080/",
          "height": 393
        },
        "id": "ZFDbFChSa7tx",
        "outputId": "951f4b64-d793-437a-c7ae-c77560787161"
      },
      "execution_count": null,
      "outputs": [
        {
          "output_type": "stream",
          "name": "stderr",
          "text": [
            "/usr/local/lib/python3.7/dist-packages/seaborn/_decorators.py:43: FutureWarning: Pass the following variables as keyword args: x, y. From version 0.12, the only valid positional argument will be `data`, and passing other arguments without an explicit keyword will result in an error or misinterpretation.\n",
            "  FutureWarning\n"
          ]
        },
        {
          "output_type": "display_data",
          "data": {
            "text/plain": [
              "<Figure size 576x360 with 1 Axes>"
            ],
            "image/png": "[encoded data removed]"
          },
          "metadata": {
            "needs_background": "light"
          }
        }
      ]
    },
    {
      "cell_type": "markdown",
      "source": [
        "# Observation\n",
        "\n",
        "*   Trip distance is highest during early morning hours.\n",
        "*   Possible reason behind this is Outstation trips taken during the weekends. \n",
        "\n",
        "*   Trip distance is fairly equal from morning till the evening\n",
        "\n",
        "\n",
        "\n",
        "\n"
      ],
      "metadata": {
        "id": "dYkoyTCpbgjy"
      }
    },
    {
      "cell_type": "markdown",
      "source": [
        "## Distance per week day"
      ],
      "metadata": {
        "id": "oebGw6mxcZyK"
      }
    },
    {
      "cell_type": "code",
      "source": [
        "plt.figure(figsize = (8,5))\n",
        "vis5 = df.groupby('weekday').distance.mean()\n",
        "sns.barplot(vis5.index, vis5.values)\n",
        "plt.ylabel('Distance')\n",
        "plt.show()"
      ],
      "metadata": {
        "colab": {
          "base_uri": "https://localhost:8080/",
          "height": 389
        },
        "id": "ukFqrABfcgZw",
        "outputId": "5774fe77-bc09-45ae-84be-89c46c0ac36c"
      },
      "execution_count": null,
      "outputs": [
        {
          "output_type": "stream",
          "name": "stderr",
          "text": [
            "/usr/local/lib/python3.7/dist-packages/seaborn/_decorators.py:43: FutureWarning: Pass the following variables as keyword args: x, y. From version 0.12, the only valid positional argument will be `data`, and passing other arguments without an explicit keyword will result in an error or misinterpretation.\n",
            "  FutureWarning\n"
          ]
        },
        {
          "output_type": "display_data",
          "data": {
            "text/plain": [
              "<Figure size 576x360 with 1 Axes>"
            ],
            "image/png": "[encoded data removed]"
          },
          "metadata": {
            "needs_background": "light"
          }
        }
      ]
    },
    {
      "cell_type": "markdown",
      "source": [
        "# Observation\n",
        "\n",
        "*    Sunday being at the top may be due to outstation trips or night trips.\n",
        "\n"
      ],
      "metadata": {
        "id": "Emeo78VNdIxl"
      }
    },
    {
      "cell_type": "markdown",
      "source": [
        "## Distance Per month"
      ],
      "metadata": {
        "id": "FdD9tCd5fZHe"
      }
    },
    {
      "cell_type": "code",
      "source": [
        "plt.figure(figsize = (10,5))\n",
        "vis6 = df.groupby('pickup_month').distance.mean()\n",
        "sns.barplot(vis6.index, vis6.values)\n",
        "plt.xticks([0,1,2,3,4,5], labels=['Jan','Feb','March','April','May','June'])\n",
        "plt.ylabel('Distance')\n",
        "plt.show()"
      ],
      "metadata": {
        "colab": {
          "base_uri": "https://localhost:8080/",
          "height": 390
        },
        "id": "mbz5RYtbfYmq",
        "outputId": "bff11f03-2146-4e34-f8ad-9949837a715a"
      },
      "execution_count": null,
      "outputs": [
        {
          "output_type": "stream",
          "name": "stderr",
          "text": [
            "/usr/local/lib/python3.7/dist-packages/seaborn/_decorators.py:43: FutureWarning: Pass the following variables as keyword args: x, y. From version 0.12, the only valid positional argument will be `data`, and passing other arguments without an explicit keyword will result in an error or misinterpretation.\n",
            "  FutureWarning\n"
          ]
        },
        {
          "output_type": "display_data",
          "data": {
            "text/plain": [
              "<Figure size 720x360 with 1 Axes>"
            ],
            "image/png": "[encoded data removed]"
          },
          "metadata": {
            "needs_background": "light"
          }
        }
      ]
    },
    {
      "cell_type": "markdown",
      "source": [
        "# Observation\n",
        "\n",
        "*   Here also the distibution is almost equivalent, varying mostly around 3.25 km/h. \n",
        "\n",
        "\n"
      ],
      "metadata": {
        "id": "Cs2I46JtgU09"
      }
    },
    {
      "cell_type": "markdown",
      "source": [
        "## Distance per flag"
      ],
      "metadata": {
        "id": "CPyd9P05g56A"
      }
    },
    {
      "cell_type": "code",
      "source": [
        "plt.figure(figsize = (4,6))\n",
        "plot_dist = df.loc[(df.distance < 100)]\n",
        "sns.boxplot(x = \"store_and_fwd_flag\", y = \"distance\", data = plot_dist)\n",
        "plt.ylabel('Distance (km)')\n",
        "plt.show()"
      ],
      "metadata": {
        "colab": {
          "base_uri": "https://localhost:8080/",
          "height": 389
        },
        "id": "7c0ZMkw9g5FF",
        "outputId": "398f0d40-334e-4afa-dea4-a58b36d04719"
      },
      "execution_count": null,
      "outputs": [
        {
          "output_type": "display_data",
          "data": {
            "text/plain": [
              "<Figure size 288x432 with 1 Axes>"
            ],
            "image/png": "[encoded data removed]"
          },
          "metadata": {
            "needs_background": "light"
          }
        }
      ]
    },
    {
      "cell_type": "markdown",
      "source": [
        "# Observation\n",
        "\n",
        "*   Interquartile range of distance is almost twice for Flag 'Y' trips as compared to the Flag 'N' trips.\n",
        "*   Median value is much different in both the case as well.\n",
        "\n"
      ],
      "metadata": {
        "id": "8wB0_kL0hbHn"
      }
    },
    {
      "cell_type": "markdown",
      "source": [
        "## Distance v/s Trip duration"
      ],
      "metadata": {
        "id": "BFDMK9N0hyEC"
      }
    },
    {
      "cell_type": "code",
      "source": [
        "dur_dist = df.loc[(df.distance < 50) & (df.trip_duration < 1000), ['distance','trip_duration']]\n",
        "plt.scatter(dur_dist.trip_duration, dur_dist.distance , s=1, alpha=0.5)\n",
        "plt.ylabel('Distance')\n",
        "plt.xlabel('Trip Duration')\n",
        "plt.show()"
      ],
      "metadata": {
        "colab": {
          "base_uri": "https://localhost:8080/",
          "height": 279
        },
        "id": "G5G65fiMiPc2",
        "outputId": "6313ce53-7114-4fa2-b25f-8fbca5f52142"
      },
      "execution_count": null,
      "outputs": [
        {
          "output_type": "display_data",
          "data": {
            "text/plain": [
              "<Figure size 432x288 with 1 Axes>"
            ],
            "image/png": "[encoded data removed]"
          },
          "metadata": {
            "needs_background": "light"
          }
        }
      ]
    },
    {
      "cell_type": "markdown",
      "source": [
        "# Observation\n",
        "\n",
        "\n",
        "*   There should have been a linear relationship between the distance covered and trip duration on an average.\n",
        "\n"
      ],
      "metadata": {
        "id": "zXXBuSiBiuef"
      }
    },
    {
      "cell_type": "code",
      "source": [
        "import plotly.express as px"
      ],
      "metadata": {
        "id": "2HzrILVMkHHN"
      },
      "execution_count": null,
      "outputs": []
    },
    {
      "cell_type": "code",
      "source": [
        "df.columns"
      ],
      "metadata": {
        "colab": {
          "base_uri": "https://localhost:8080/"
        },
        "id": "FU4jnEM7kNK_",
        "outputId": "1605267b-979c-4d5a-ae45-df9f42ec7902"
      },
      "execution_count": null,
      "outputs": [
        {
          "output_type": "execute_result",
          "data": {
            "text/plain": [
              "Index(['id', 'vendor_id', 'pickup_datetime', 'dropoff_datetime',\n",
              "       'passenger_count', 'pickup_longitude', 'pickup_latitude',\n",
              "       'dropoff_longitude', 'dropoff_latitude', 'store_and_fwd_flag',\n",
              "       'trip_duration', 'pickup_day', 'pickup_hour', 'pickup_month', 'weekday',\n",
              "       'distance'],\n",
              "      dtype='object')"
            ]
          },
          "metadata": {},
          "execution_count": 680
        }
      ]
    },
    {
      "cell_type": "markdown",
      "source": [
        "## Pickup Locations"
      ],
      "metadata": {
        "id": "elPk1gm1x5pL"
      }
    },
    {
      "cell_type": "code",
      "source": [
        "pip install basemap"
      ],
      "metadata": {
        "id": "FL5PFyWtwil7"
      },
      "execution_count": null,
      "outputs": []
    },
    {
      "cell_type": "code",
      "source": [
        "def location_point(set):\n",
        "    # Import package for map\n",
        "    from mpl_toolkits.basemap import Basemap\n",
        "    plt.figure(figsize = (20,20))\n",
        "\n",
        "    # Set the limits of the map to the minimum and maximum coordinates\n",
        "    lat_min = df[\"pickup_latitude\"].min() - .2\n",
        "    lat_max = df[\"pickup_latitude\"].max() + .2\n",
        "    lon_min = df[\"pickup_longitude\"].min() - .2\n",
        "    lon_max = df[\"pickup_longitude\"].max() + .2\n",
        "\n",
        "    # Set the center of the map\n",
        "    cent_lat = (lat_min + lat_max) / 2\n",
        "    cent_lon = (lon_min + lon_max) / 2\n",
        "\n",
        "    #Create the Basemap object with required params.\n",
        "    map = Basemap(llcrnrlon=lon_min,\n",
        "                  llcrnrlat=lat_min,\n",
        "                  urcrnrlon=lon_max,\n",
        "                  urcrnrlat=lat_max,\n",
        "                  resolution='l',\n",
        "                  projection='tmerc',\n",
        "                  lat_0 = cent_lat,\n",
        "                  lon_0 = cent_lon)\n",
        "\n",
        "    #Style the map\n",
        "    map.drawmapboundary()\n",
        "    map.drawcoastlines()\n",
        "    map.fillcontinents()\n",
        "    map.drawcountries(linewidth=2)\n",
        "    map.drawstates()\n",
        "\n",
        "\n",
        "    #Fetch the long and lat in form of array\n",
        "    long = np.array(df[\"pickup_longitude\"])\n",
        "    lat = np.array(df[\"pickup_latitude\"])\n",
        "\n",
        "    x, y = map(long, lat)\n",
        "    map.plot(x, y,'ro', markersize=2, alpha=1)\n",
        "\n",
        "    plt.show()\n",
        "\n"
      ],
      "metadata": {
        "id": "HChsukifysKy"
      },
      "execution_count": null,
      "outputs": []
    },
    {
      "cell_type": "code",
      "source": [
        "location_point(df)"
      ],
      "metadata": {
        "colab": {
          "base_uri": "https://localhost:8080/",
          "height": 486
        },
        "id": "BiPpxgEYy88J",
        "outputId": "d1002ca3-ac52-40fa-8eb4-0cb58aa7a946"
      },
      "execution_count": null,
      "outputs": [
        {
          "output_type": "display_data",
          "data": {
            "text/plain": [
              "<Figure size 1440x1440 with 1 Axes>"
            ],
            "image/png": "[encoded data removed]"
          },
          "metadata": {}
        }
      ]
    },
    {
      "cell_type": "markdown",
      "source": [
        "# Observation\n",
        "\n",
        "\n",
        "*   There are quite a few pickup from the neighbouring state as well. Some are quite far and some very near to the NYC state.\n",
        "\n"
      ],
      "metadata": {
        "id": "qBMgN-L8zf6o"
      }
    },
    {
      "cell_type": "code",
      "source": [
        "plt.figure(figsize=(10,10))\n",
        "\n",
        "from mpl_toolkits.basemap import Basemap\n",
        "\n",
        "# Set the limits of the map to the minimum and maximum coordinates\n",
        "lat_min = 40.5\n",
        "lat_max = 40.9\n",
        "lon_min = -74.2\n",
        "lon_max = -73.7\n",
        "\n",
        "# Set the center of the map\n",
        "cent_lat = (lat_min + lat_max) / 2\n",
        "cent_lon = (lon_min + lon_max) / 2\n",
        "\n",
        "#Create the Basemap object with required params.\n",
        "map = Basemap(llcrnrlon=lon_min,\n",
        "              llcrnrlat=lat_min,\n",
        "              urcrnrlon=lon_max,\n",
        "              urcrnrlat=lat_max,\n",
        "              resolution='l',\n",
        "              projection='tmerc',\n",
        "              lat_0 = cent_lat,\n",
        "              lon_0 = cent_lon)\n",
        "\n",
        "#Style the map\n",
        "# map.drawcounties()\n",
        "\n",
        "#Fetch the long and lat in form of array\n",
        "long = np.array(df[\"pickup_longitude\"])\n",
        "lat = np.array(df[\"pickup_latitude\"])\n",
        "\n",
        "x, y = map(long, lat)\n",
        "map.plot(x, y,'bo', markersize=1, alpha=1)\n",
        "plt.xticks()\n",
        "plt.show()"
      ],
      "metadata": {
        "colab": {
          "base_uri": "https://localhost:8080/",
          "height": 578
        },
        "id": "ZAVI-ZAOu39c",
        "outputId": "8435ae76-0d32-41f4-8f6a-a54147e166f6"
      },
      "execution_count": null,
      "outputs": [
        {
          "output_type": "display_data",
          "data": {
            "text/plain": [
              "<Figure size 720x720 with 1 Axes>"
            ],
            "image/png": "[encoded data removed]"
          },
          "metadata": {}
        }
      ]
    },
    {
      "cell_type": "markdown",
      "source": [
        "# Observation\n",
        "\n",
        "\n",
        "*   We can see that most of the taxi pickups were done in the manhattan area as compared to the other areas in NYC.\n",
        "*   A long trail towards the airport shows that the airport is situated quite far from the Manhattan area.\n",
        "\n",
        "\n",
        "\n",
        "\n",
        "\n",
        "\n"
      ],
      "metadata": {
        "id": "ZvAWsimiyEyt"
      }
    },
    {
      "cell_type": "markdown",
      "source": [
        "## Correlation"
      ],
      "metadata": {
        "id": "auu56oxlTpAh"
      }
    },
    {
      "cell_type": "code",
      "source": [
        "#Plotting Correlation heatmap\n",
        "plt.figure(figsize=(20,10))\n",
        "sns.heatmap(df.corr(), annot=True, cmap=\"BuPu\")\n",
        "plt.title('Correlation Plot')"
      ],
      "metadata": {
        "id": "M8W_uMPGMy1U",
        "colab": {
          "base_uri": "https://localhost:8080/",
          "height": 703
        },
        "outputId": "6748eccf-7b83-4c61-f456-970e36d79e1c"
      },
      "execution_count": null,
      "outputs": [
        {
          "output_type": "execute_result",
          "data": {
            "text/plain": [
              "Text(0.5, 1.0, 'Correlation Plot')"
            ]
          },
          "metadata": {},
          "execution_count": 612
        },
        {
          "output_type": "display_data",
          "data": {
            "text/plain": [
              "<Figure size 1440x720 with 2 Axes>"
            ],
            "image/png": "[encoded data removed]"
          },
          "metadata": {
            "needs_background": "light"
          }
        }
      ]
    },
    {
      "cell_type": "code",
      "source": [
        "# dorping some unnecessary columns\n",
        "new_df = df.drop(['id','pickup_longitude','pickup_latitude','dropoff_longitude', 'dropoff_latitude','dropoff_datetime','pickup_datetime'],axis=1)"
      ],
      "metadata": {
        "id": "i074TLirYJFL"
      },
      "execution_count": null,
      "outputs": []
    },
    {
      "cell_type": "code",
      "source": [
        "new_df.head(5)"
      ],
      "metadata": {
        "colab": {
          "base_uri": "https://localhost:8080/",
          "height": 206
        },
        "id": "V6ONqwe1dNw6",
        "outputId": "68d7fdad-1e97-43ec-f7a7-854467bd568b"
      },
      "execution_count": null,
      "outputs": [
        {
          "output_type": "execute_result",
          "data": {
            "text/plain": [
              "   vendor_id  passenger_count store_and_fwd_flag  trip_duration  pickup_day  \\\n",
              "0          2                1                  N            455          14   \n",
              "1          1                1                  N            663          12   \n",
              "2          2                1                  N           2124          19   \n",
              "3          2                1                  N            429           6   \n",
              "4          2                1                  N            435          26   \n",
              "\n",
              "   pickup_hour  pickup_month  weekday  distance  \n",
              "0           17             3        0      1.50  \n",
              "1            0             6        6      1.81  \n",
              "2           11             1        1      6.39  \n",
              "3           19             4        2      1.49  \n",
              "4           13             3        5      1.19  "
            ],
            "text/html": [
              "\n",
              "  <div id=\"df-47e04084-4dab-416e-b1e3-fa6aa21e76d2\">\n",
              "    <div class=\"colab-df-container\">\n",
              "      <div>\n",
              "<style scoped>\n",
              "    .dataframe tbody tr th:only-of-type {\n",
              "        vertical-align: middle;\n",
              "    }\n",
              "\n",
              "    .dataframe tbody tr th {\n",
              "        vertical-align: top;\n",
              "    }\n",
              "\n",
              "    .dataframe thead th {\n",
              "        text-align: right;\n",
              "    }\n",
              "</style>\n",
              "<table border=\"1\" class=\"dataframe\">\n",
              "  <thead>\n",
              "    <tr style=\"text-align: right;\">\n",
              "      <th></th>\n",
              "      <th>vendor_id</th>\n",
              "      <th>passenger_count</th>\n",
              "      <th>store_and_fwd_flag</th>\n",
              "      <th>trip_duration</th>\n",
              "      <th>pickup_day</th>\n",
              "      <th>pickup_hour</th>\n",
              "      <th>pickup_month</th>\n",
              "      <th>weekday</th>\n",
              "      <th>distance</th>\n",
              "    </tr>\n",
              "  </thead>\n",
              "  <tbody>\n",
              "    <tr>\n",
              "      <th>0</th>\n",
              "      <td>2</td>\n",
              "      <td>1</td>\n",
              "      <td>N</td>\n",
              "      <td>455</td>\n",
              "      <td>14</td>\n",
              "      <td>17</td>\n",
              "      <td>3</td>\n",
              "      <td>0</td>\n",
              "      <td>1.50</td>\n",
              "    </tr>\n",
              "    <tr>\n",
              "      <th>1</th>\n",
              "      <td>1</td>\n",
              "      <td>1</td>\n",
              "      <td>N</td>\n",
              "      <td>663</td>\n",
              "      <td>12</td>\n",
              "      <td>0</td>\n",
              "      <td>6</td>\n",
              "      <td>6</td>\n",
              "      <td>1.81</td>\n",
              "    </tr>\n",
              "    <tr>\n",
              "      <th>2</th>\n",
              "      <td>2</td>\n",
              "      <td>1</td>\n",
              "      <td>N</td>\n",
              "      <td>2124</td>\n",
              "      <td>19</td>\n",
              "      <td>11</td>\n",
              "      <td>1</td>\n",
              "      <td>1</td>\n",
              "      <td>6.39</td>\n",
              "    </tr>\n",
              "    <tr>\n",
              "      <th>3</th>\n",
              "      <td>2</td>\n",
              "      <td>1</td>\n",
              "      <td>N</td>\n",
              "      <td>429</td>\n",
              "      <td>6</td>\n",
              "      <td>19</td>\n",
              "      <td>4</td>\n",
              "      <td>2</td>\n",
              "      <td>1.49</td>\n",
              "    </tr>\n",
              "    <tr>\n",
              "      <th>4</th>\n",
              "      <td>2</td>\n",
              "      <td>1</td>\n",
              "      <td>N</td>\n",
              "      <td>435</td>\n",
              "      <td>26</td>\n",
              "      <td>13</td>\n",
              "      <td>3</td>\n",
              "      <td>5</td>\n",
              "      <td>1.19</td>\n",
              "    </tr>\n",
              "  </tbody>\n",
              "</table>\n",
              "</div>\n",
              "      <button class=\"colab-df-convert\" onclick=\"convertToInteractive('df-47e04084-4dab-416e-b1e3-fa6aa21e76d2')\"\n",
              "              title=\"Convert this dataframe to an interactive table.\"\n",
              "              style=\"display:none;\">\n",
              "        \n",
              "  <svg xmlns=\"http://www.w3.org/2000/svg\" height=\"24px\"viewBox=\"0 0 24 24\"\n",
              "       width=\"24px\">\n",
              "    <path d=\"M0 0h24v24H0V0z\" fill=\"none\"/>\n",
              "    <path d=\"M18.56 5.44l.94 2.06.94-2.06 2.06-.94-2.06-.94-.94-2.06-.94 2.06-2.06.94zm-11 1L8.5 8.5l.94-2.06 2.06-.94-2.06-.94L8.5 2.5l-.94 2.06-2.06.94zm10 10l.94 2.06.94-2.06 2.06-.94-2.06-.94-.94-2.06-.94 2.06-2.06.94z\"/><path d=\"M17.41 7.96l-1.37-1.37c-.4-.4-.92-.59-1.43-.59-.52 0-1.04.2-1.43.59L10.3 9.45l-7.72 7.72c-.78.78-.78 2.05 0 2.83L4 21.41c.39.39.9.59 1.41.59.51 0 1.02-.2 1.41-.59l7.78-7.78 2.81-2.81c.8-.78.8-2.07 0-2.86zM5.41 20L4 18.59l7.72-7.72 1.47 1.35L5.41 20z\"/>\n",
              "  </svg>\n",
              "      </button>\n",
              "      \n",
              "  <style>\n",
              "    .colab-df-container {\n",
              "      display:flex;\n",
              "      flex-wrap:wrap;\n",
              "      gap: 12px;\n",
              "    }\n",
              "\n",
              "    .colab-df-convert {\n",
              "      background-color: #E8F0FE;\n",
              "      border: none;\n",
              "      border-radius: 50%;\n",
              "      cursor: pointer;\n",
              "      display: none;\n",
              "      fill: #1967D2;\n",
              "      height: 32px;\n",
              "      padding: 0 0 0 0;\n",
              "      width: 32px;\n",
              "    }\n",
              "\n",
              "    .colab-df-convert:hover {\n",
              "      background-color: #E2EBFA;\n",
              "      box-shadow: 0px 1px 2px rgba(60, 64, 67, 0.3), 0px 1px 3px 1px rgba(60, 64, 67, 0.15);\n",
              "      fill: #174EA6;\n",
              "    }\n",
              "\n",
              "    [theme=dark] .colab-df-convert {\n",
              "      background-color: #3B4455;\n",
              "      fill: #D2E3FC;\n",
              "    }\n",
              "\n",
              "    [theme=dark] .colab-df-convert:hover {\n",
              "      background-color: #434B5C;\n",
              "      box-shadow: 0px 1px 3px 1px rgba(0, 0, 0, 0.15);\n",
              "      filter: drop-shadow(0px 1px 2px rgba(0, 0, 0, 0.3));\n",
              "      fill: #FFFFFF;\n",
              "    }\n",
              "  </style>\n",
              "\n",
              "      <script>\n",
              "        const buttonEl =\n",
              "          document.querySelector('#df-47e04084-4dab-416e-b1e3-fa6aa21e76d2 button.colab-df-convert');\n",
              "        buttonEl.style.display =\n",
              "          google.colab.kernel.accessAllowed ? 'block' : 'none';\n",
              "\n",
              "        async function convertToInteractive(key) {\n",
              "          const element = document.querySelector('#df-47e04084-4dab-416e-b1e3-fa6aa21e76d2');\n",
              "          const dataTable =\n",
              "            await google.colab.kernel.invokeFunction('convertToInteractive',\n",
              "                                                     [key], {});\n",
              "          if (!dataTable) return;\n",
              "\n",
              "          const docLinkHtml = 'Like what you see? Visit the ' +\n",
              "            '<a target=\"_blank\" href=https://colab.research.google.com/notebooks/data_table.ipynb>data table notebook</a>'\n",
              "            + ' to learn more about interactive tables.';\n",
              "          element.innerHTML = '';\n",
              "          dataTable['output_type'] = 'display_data';\n",
              "          await google.colab.output.renderOutput(dataTable, element);\n",
              "          const docLink = document.createElement('div');\n",
              "          docLink.innerHTML = docLinkHtml;\n",
              "          element.appendChild(docLink);\n",
              "        }\n",
              "      </script>\n",
              "    </div>\n",
              "  </div>\n",
              "  "
            ]
          },
          "metadata": {},
          "execution_count": 615
        }
      ]
    },
    {
      "cell_type": "code",
      "source": [
        "## label encoding\n",
        "new_df['store_and_fwd_flag']= new_df['store_and_fwd_flag'].replace(to_replace = ['Y','N'],value = ['1','0'])"
      ],
      "metadata": {
        "id": "wr_EegeBoGJZ"
      },
      "execution_count": null,
      "outputs": []
    },
    {
      "cell_type": "code",
      "source": [
        "new_df['store_and_fwd_flag'].value_counts()"
      ],
      "metadata": {
        "colab": {
          "base_uri": "https://localhost:8080/"
        },
        "id": "b0lQK0ONrawC",
        "outputId": "2c969e9c-097b-408a-d768-fc4fc901b542"
      },
      "execution_count": null,
      "outputs": [
        {
          "output_type": "execute_result",
          "data": {
            "text/plain": [
              "0    1450594\n",
              "1       8045\n",
              "Name: store_and_fwd_flag, dtype: int64"
            ]
          },
          "metadata": {},
          "execution_count": 617
        }
      ]
    },
    {
      "cell_type": "code",
      "source": [
        "new_df.head()"
      ],
      "metadata": {
        "colab": {
          "base_uri": "https://localhost:8080/",
          "height": 206
        },
        "id": "wMdVfVSVpWub",
        "outputId": "d9608e52-6613-4b58-c286-a49a14a71e22"
      },
      "execution_count": null,
      "outputs": [
        {
          "output_type": "execute_result",
          "data": {
            "text/plain": [
              "   vendor_id  passenger_count store_and_fwd_flag  trip_duration  pickup_day  \\\n",
              "0          2                1                  0            455          14   \n",
              "1          1                1                  0            663          12   \n",
              "2          2                1                  0           2124          19   \n",
              "3          2                1                  0            429           6   \n",
              "4          2                1                  0            435          26   \n",
              "\n",
              "   pickup_hour  pickup_month  weekday  distance  \n",
              "0           17             3        0      1.50  \n",
              "1            0             6        6      1.81  \n",
              "2           11             1        1      6.39  \n",
              "3           19             4        2      1.49  \n",
              "4           13             3        5      1.19  "
            ],
            "text/html": [
              "\n",
              "  <div id=\"df-5709ecca-bb1e-4303-8efd-89f666565bfd\">\n",
              "    <div class=\"colab-df-container\">\n",
              "      <div>\n",
              "<style scoped>\n",
              "    .dataframe tbody tr th:only-of-type {\n",
              "        vertical-align: middle;\n",
              "    }\n",
              "\n",
              "    .dataframe tbody tr th {\n",
              "        vertical-align: top;\n",
              "    }\n",
              "\n",
              "    .dataframe thead th {\n",
              "        text-align: right;\n",
              "    }\n",
              "</style>\n",
              "<table border=\"1\" class=\"dataframe\">\n",
              "  <thead>\n",
              "    <tr style=\"text-align: right;\">\n",
              "      <th></th>\n",
              "      <th>vendor_id</th>\n",
              "      <th>passenger_count</th>\n",
              "      <th>store_and_fwd_flag</th>\n",
              "      <th>trip_duration</th>\n",
              "      <th>pickup_day</th>\n",
              "      <th>pickup_hour</th>\n",
              "      <th>pickup_month</th>\n",
              "      <th>weekday</th>\n",
              "      <th>distance</th>\n",
              "    </tr>\n",
              "  </thead>\n",
              "  <tbody>\n",
              "    <tr>\n",
              "      <th>0</th>\n",
              "      <td>2</td>\n",
              "      <td>1</td>\n",
              "      <td>0</td>\n",
              "      <td>455</td>\n",
              "      <td>14</td>\n",
              "      <td>17</td>\n",
              "      <td>3</td>\n",
              "      <td>0</td>\n",
              "      <td>1.50</td>\n",
              "    </tr>\n",
              "    <tr>\n",
              "      <th>1</th>\n",
              "      <td>1</td>\n",
              "      <td>1</td>\n",
              "      <td>0</td>\n",
              "      <td>663</td>\n",
              "      <td>12</td>\n",
              "      <td>0</td>\n",
              "      <td>6</td>\n",
              "      <td>6</td>\n",
              "      <td>1.81</td>\n",
              "    </tr>\n",
              "    <tr>\n",
              "      <th>2</th>\n",
              "      <td>2</td>\n",
              "      <td>1</td>\n",
              "      <td>0</td>\n",
              "      <td>2124</td>\n",
              "      <td>19</td>\n",
              "      <td>11</td>\n",
              "      <td>1</td>\n",
              "      <td>1</td>\n",
              "      <td>6.39</td>\n",
              "    </tr>\n",
              "    <tr>\n",
              "      <th>3</th>\n",
              "      <td>2</td>\n",
              "      <td>1</td>\n",
              "      <td>0</td>\n",
              "      <td>429</td>\n",
              "      <td>6</td>\n",
              "      <td>19</td>\n",
              "      <td>4</td>\n",
              "      <td>2</td>\n",
              "      <td>1.49</td>\n",
              "    </tr>\n",
              "    <tr>\n",
              "      <th>4</th>\n",
              "      <td>2</td>\n",
              "      <td>1</td>\n",
              "      <td>0</td>\n",
              "      <td>435</td>\n",
              "      <td>26</td>\n",
              "      <td>13</td>\n",
              "      <td>3</td>\n",
              "      <td>5</td>\n",
              "      <td>1.19</td>\n",
              "    </tr>\n",
              "  </tbody>\n",
              "</table>\n",
              "</div>\n",
              "      <button class=\"colab-df-convert\" onclick=\"convertToInteractive('df-5709ecca-bb1e-4303-8efd-89f666565bfd')\"\n",
              "              title=\"Convert this dataframe to an interactive table.\"\n",
              "              style=\"display:none;\">\n",
              "        \n",
              "  <svg xmlns=\"http://www.w3.org/2000/svg\" height=\"24px\"viewBox=\"0 0 24 24\"\n",
              "       width=\"24px\">\n",
              "    <path d=\"M0 0h24v24H0V0z\" fill=\"none\"/>\n",
              "    <path d=\"M18.56 5.44l.94 2.06.94-2.06 2.06-.94-2.06-.94-.94-2.06-.94 2.06-2.06.94zm-11 1L8.5 8.5l.94-2.06 2.06-.94-2.06-.94L8.5 2.5l-.94 2.06-2.06.94zm10 10l.94 2.06.94-2.06 2.06-.94-2.06-.94-.94-2.06-.94 2.06-2.06.94z\"/><path d=\"M17.41 7.96l-1.37-1.37c-.4-.4-.92-.59-1.43-.59-.52 0-1.04.2-1.43.59L10.3 9.45l-7.72 7.72c-.78.78-.78 2.05 0 2.83L4 21.41c.39.39.9.59 1.41.59.51 0 1.02-.2 1.41-.59l7.78-7.78 2.81-2.81c.8-.78.8-2.07 0-2.86zM5.41 20L4 18.59l7.72-7.72 1.47 1.35L5.41 20z\"/>\n",
              "  </svg>\n",
              "      </button>\n",
              "      \n",
              "  <style>\n",
              "    .colab-df-container {\n",
              "      display:flex;\n",
              "      flex-wrap:wrap;\n",
              "      gap: 12px;\n",
              "    }\n",
              "\n",
              "    .colab-df-convert {\n",
              "      background-color: #E8F0FE;\n",
              "      border: none;\n",
              "      border-radius: 50%;\n",
              "      cursor: pointer;\n",
              "      display: none;\n",
              "      fill: #1967D2;\n",
              "      height: 32px;\n",
              "      padding: 0 0 0 0;\n",
              "      width: 32px;\n",
              "    }\n",
              "\n",
              "    .colab-df-convert:hover {\n",
              "      background-color: #E2EBFA;\n",
              "      box-shadow: 0px 1px 2px rgba(60, 64, 67, 0.3), 0px 1px 3px 1px rgba(60, 64, 67, 0.15);\n",
              "      fill: #174EA6;\n",
              "    }\n",
              "\n",
              "    [theme=dark] .colab-df-convert {\n",
              "      background-color: #3B4455;\n",
              "      fill: #D2E3FC;\n",
              "    }\n",
              "\n",
              "    [theme=dark] .colab-df-convert:hover {\n",
              "      background-color: #434B5C;\n",
              "      box-shadow: 0px 1px 3px 1px rgba(0, 0, 0, 0.15);\n",
              "      filter: drop-shadow(0px 1px 2px rgba(0, 0, 0, 0.3));\n",
              "      fill: #FFFFFF;\n",
              "    }\n",
              "  </style>\n",
              "\n",
              "      <script>\n",
              "        const buttonEl =\n",
              "          document.querySelector('#df-5709ecca-bb1e-4303-8efd-89f666565bfd button.colab-df-convert');\n",
              "        buttonEl.style.display =\n",
              "          google.colab.kernel.accessAllowed ? 'block' : 'none';\n",
              "\n",
              "        async function convertToInteractive(key) {\n",
              "          const element = document.querySelector('#df-5709ecca-bb1e-4303-8efd-89f666565bfd');\n",
              "          const dataTable =\n",
              "            await google.colab.kernel.invokeFunction('convertToInteractive',\n",
              "                                                     [key], {});\n",
              "          if (!dataTable) return;\n",
              "\n",
              "          const docLinkHtml = 'Like what you see? Visit the ' +\n",
              "            '<a target=\"_blank\" href=https://colab.research.google.com/notebooks/data_table.ipynb>data table notebook</a>'\n",
              "            + ' to learn more about interactive tables.';\n",
              "          element.innerHTML = '';\n",
              "          dataTable['output_type'] = 'display_data';\n",
              "          await google.colab.output.renderOutput(dataTable, element);\n",
              "          const docLink = document.createElement('div');\n",
              "          docLink.innerHTML = docLinkHtml;\n",
              "          element.appendChild(docLink);\n",
              "        }\n",
              "      </script>\n",
              "    </div>\n",
              "  </div>\n",
              "  "
            ]
          },
          "metadata": {},
          "execution_count": 618
        }
      ]
    },
    {
      "cell_type": "code",
      "source": [
        "new_df.dtypes"
      ],
      "metadata": {
        "colab": {
          "base_uri": "https://localhost:8080/"
        },
        "id": "t-eLXrrqlmUy",
        "outputId": "1ddabeb2-2434-4615-d87a-16bc6259c78e"
      },
      "execution_count": null,
      "outputs": [
        {
          "output_type": "execute_result",
          "data": {
            "text/plain": [
              "vendor_id               int64\n",
              "passenger_count         int64\n",
              "store_and_fwd_flag     object\n",
              "trip_duration           int64\n",
              "pickup_day              int64\n",
              "pickup_hour             int64\n",
              "pickup_month            int64\n",
              "weekday                 int64\n",
              "distance              float64\n",
              "dtype: object"
            ]
          },
          "metadata": {},
          "execution_count": 619
        }
      ]
    },
    {
      "cell_type": "markdown",
      "source": [
        "## Creating Module"
      ],
      "metadata": {
        "id": "emu__GfZ6UxL"
      }
    },
    {
      "cell_type": "code",
      "source": [
        "# Spliting Predictors and Target Variable\n",
        "\n",
        "X = new_df.drop(['trip_duration'], axis=1)\n",
        "y = np.log(new_df['trip_duration'])"
      ],
      "metadata": {
        "id": "3Oh44vuyyJTQ"
      },
      "execution_count": null,
      "outputs": []
    },
    {
      "cell_type": "code",
      "source": [
        "#importing some important metrics\n",
        "from sklearn.model_selection import train_test_split, GridSearchCV, cross_val_score\n",
        "from sklearn.metrics import r2_score, mean_squared_log_error , mean_squared_error"
      ],
      "metadata": {
        "id": "NQ0lLR8ujm-J"
      },
      "execution_count": null,
      "outputs": []
    },
    {
      "cell_type": "code",
      "source": [
        "#train test split\n",
        "X_train, X_test, y_train, y_test = train_test_split(X, y, test_size=0.2, random_state=1)"
      ],
      "metadata": {
        "id": "ceolLBpTjjIO"
      },
      "execution_count": null,
      "outputs": []
    },
    {
      "cell_type": "code",
      "source": [
        "X_train.shape, X_test.shape, y_train.shape, y_test.shape"
      ],
      "metadata": {
        "colab": {
          "base_uri": "https://localhost:8080/"
        },
        "id": "Sxrdv5-Uk9hs",
        "outputId": "96f443bb-eae1-457d-e5d3-2c233eba8de3"
      },
      "execution_count": null,
      "outputs": [
        {
          "output_type": "execute_result",
          "data": {
            "text/plain": [
              "((1166911, 8), (291728, 8), (1166911,), (291728,))"
            ]
          },
          "metadata": {},
          "execution_count": 624
        }
      ]
    },
    {
      "cell_type": "code",
      "source": [
        "#implementing Linear regression\n",
        "from sklearn.linear_model import LinearRegression\n",
        "\n",
        "lr = LinearRegression()\n",
        "lr.fit(X_train, y_train)\n",
        "lr_pred = lr.predict(X_test)\n",
        "lr_pred"
      ],
      "metadata": {
        "colab": {
          "base_uri": "https://localhost:8080/"
        },
        "id": "jGJBB6LnkCi_",
        "outputId": "0c194aff-5707-45b7-987d-906b3e9b8d49"
      },
      "execution_count": null,
      "outputs": [
        {
          "output_type": "execute_result",
          "data": {
            "text/plain": [
              "array([6.10660897, 6.30714118, 6.22056614, ..., 6.11724539, 6.33849524,\n",
              "       6.48083845])"
            ]
          },
          "metadata": {},
          "execution_count": 625
        }
      ]
    },
    {
      "cell_type": "code",
      "source": [
        "#intercept\n",
        "lr.intercept_"
      ],
      "metadata": {
        "colab": {
          "base_uri": "https://localhost:8080/"
        },
        "id": "L77K1xb-r7Jw",
        "outputId": "89c03897-9f0b-4ae0-d422-4929f903e47b"
      },
      "execution_count": null,
      "outputs": [
        {
          "output_type": "execute_result",
          "data": {
            "text/plain": [
              "5.936299566262306"
            ]
          },
          "metadata": {},
          "execution_count": 626
        }
      ]
    },
    {
      "cell_type": "code",
      "source": [
        "# coficient\n",
        "lr.coef_"
      ],
      "metadata": {
        "colab": {
          "base_uri": "https://localhost:8080/"
        },
        "id": "-AJnJLictUDv",
        "outputId": "19d07ed8-2617-4ee6-c692-59037a5567c5"
      },
      "execution_count": null,
      "outputs": [
        {
          "output_type": "execute_result",
          "data": {
            "text/plain": [
              "array([ 0.01813729,  0.007602  ,  0.0140692 ,  0.00069374,  0.00572992,\n",
              "        0.01764689, -0.01153509,  0.10802952])"
            ]
          },
          "metadata": {},
          "execution_count": 627
        }
      ]
    },
    {
      "cell_type": "code",
      "source": [
        "#Examining \n",
        "\n",
        "print (\"Training Score : \" , lr.score(X_train, y_train))\n",
        "print (\"Validation Score : \", lr.score(X_test, y_test))\n",
        "print (\"R2_Score : \", r2_score(lr_pred, y_test))\n",
        "\n",
        "#print (\"Cross Validation Score : \" , cross_val_score(lr, X_train, y_train, cv=5).mean())\n",
        "#print (\"RMSLE : \", np.sqrt(mean_squared_log_error(lr_pred, y_test)))"
      ],
      "metadata": {
        "colab": {
          "base_uri": "https://localhost:8080/"
        },
        "id": "v1WPjZMQth_n",
        "outputId": "08e53e87-8ac8-4b36-88f6-5820a45debea"
      },
      "execution_count": null,
      "outputs": [
        {
          "output_type": "stream",
          "name": "stdout",
          "text": [
            "Training Score :  0.33708933648466\n",
            "Validation Score :  0.31267005992004904\n",
            "R2_Score :  -0.9057413826115102\n"
          ]
        }
      ]
    },
    {
      "cell_type": "code",
      "source": [
        "plt.figure(figsize=(10,8))\n",
        "plt.subplot(1,1,1)\n",
        "sns.distplot(y_test, kde=False, color=\"black\", label=\"Test\")\n",
        "\n",
        "plt.subplot(1,1,1)\n",
        "sns.distplot(lr_pred, kde=False, color=\"g\", label=\"Prediction\")\n",
        "plt.legend()\n",
        "plt.title(\"Test VS Prediction\")"
      ],
      "metadata": {
        "colab": {
          "base_uri": "https://localhost:8080/",
          "height": 621
        },
        "id": "DA3ZZDXiukWq",
        "outputId": "2f897b5c-46c9-41e3-b6b8-af468ddd7eb7"
      },
      "execution_count": null,
      "outputs": [
        {
          "output_type": "stream",
          "name": "stderr",
          "text": [
            "/usr/local/lib/python3.7/dist-packages/seaborn/distributions.py:2619: FutureWarning: `distplot` is a deprecated function and will be removed in a future version. Please adapt your code to use either `displot` (a figure-level function with similar flexibility) or `histplot` (an axes-level function for histograms).\n",
            "  warnings.warn(msg, FutureWarning)\n",
            "/usr/local/lib/python3.7/dist-packages/ipykernel_launcher.py:5: MatplotlibDeprecationWarning: Adding an axes using the same arguments as a previous axes currently reuses the earlier instance.  In a future version, a new instance will always be created and returned.  Meanwhile, this warning can be suppressed, and the future behavior ensured, by passing a unique label to each axes instance.\n",
            "  \"\"\"\n"
          ]
        },
        {
          "output_type": "execute_result",
          "data": {
            "text/plain": [
              "Text(0.5, 1.0, 'Test VS Prediction')"
            ]
          },
          "metadata": {},
          "execution_count": 629
        },
        {
          "output_type": "display_data",
          "data": {
            "text/plain": [
              "<Figure size 720x576 with 1 Axes>"
            ],
            "image/png": "[encoded data removed]"
          },
          "metadata": {
            "needs_background": "light"
          }
        }
      ]
    },
    {
      "cell_type": "markdown",
      "source": [
        "# Observation \n",
        "\n",
        "*   Model is not working well in leaner regression.\n",
        "\n"
      ],
      "metadata": {
        "id": "PIsILEOTwpts"
      }
    },
    {
      "cell_type": "markdown",
      "source": [
        "## Let's try Decision Tree"
      ],
      "metadata": {
        "id": "5VG2CyzPw6Ob"
      }
    },
    {
      "cell_type": "code",
      "source": [
        "#decision tree implementation\n",
        "from sklearn.tree import DecisionTreeRegressor\n",
        "\n",
        "dt = DecisionTreeRegressor(criterion=\"mse\", max_depth=10)\n",
        "dt.fit(X_train, y_train)\n",
        "dt_pred = dt.predict(X_test)\n",
        "dt_pred"
      ],
      "metadata": {
        "colab": {
          "base_uri": "https://localhost:8080/"
        },
        "id": "xYS0VUeYw4VO",
        "outputId": "030eaae2-7fc1-41b0-8880-eff12cb87bf7"
      },
      "execution_count": null,
      "outputs": [
        {
          "output_type": "stream",
          "name": "stderr",
          "text": [
            "/usr/local/lib/python3.7/dist-packages/sklearn/tree/_classes.py:363: FutureWarning: Criterion 'mse' was deprecated in v1.0 and will be removed in version 1.2. Use `criterion='squared_error'` which is equivalent.\n",
            "  FutureWarning,\n"
          ]
        },
        {
          "output_type": "execute_result",
          "data": {
            "text/plain": [
              "array([5.31019631, 6.65757802, 4.99371282, ..., 5.75280522, 6.11590304,\n",
              "       7.00175844])"
            ]
          },
          "metadata": {},
          "execution_count": 630
        }
      ]
    },
    {
      "cell_type": "code",
      "source": [
        "#examining \n",
        "\n",
        "print (\"Training Score : \" , dt.score(X_train, y_train))\n",
        "print (\"Validation Score : \",dt.score(X_test, y_test))\n",
        "print (\"R2_Score : \", r2_score(dt_pred, y_test))\n",
        "\n",
        "#print (\"Cross Validation Score : \" , cross_val_score(dt, X_train, y_train, cv=5).mean())\n",
        "#print (\"RMSLE : \", np.sqrt(mean_squared_log_error(dt_pred, y_test)))"
      ],
      "metadata": {
        "colab": {
          "base_uri": "https://localhost:8080/"
        },
        "id": "HP9fz5PjxW2v",
        "outputId": "fbe3484c-7900-4604-b10b-c258795d5e32"
      },
      "execution_count": null,
      "outputs": [
        {
          "output_type": "stream",
          "name": "stdout",
          "text": [
            "Training Score :  0.6581233778355289\n",
            "Validation Score :  0.6469134096906399\n",
            "R2_Score :  0.4645563777133145\n"
          ]
        }
      ]
    },
    {
      "cell_type": "code",
      "source": [
        "#prediction vs real data\n",
        "\n",
        "plt.figure(figsize=(15,8))\n",
        "plt.subplot(1,1,1)\n",
        "sns.distplot(y_test, kde=False, color=\"black\", label=\"Test\")\n",
        "\n",
        "plt.subplot(1,1,1)\n",
        "sns.distplot(dt_pred, kde=False, color=\"cyan\", label=\"Prediction\")\n",
        "plt.legend()\n",
        "plt.title(\"Test VS Prediction\")"
      ],
      "metadata": {
        "colab": {
          "base_uri": "https://localhost:8080/",
          "height": 621
        },
        "id": "VsVfTt8bx0HG",
        "outputId": "e8c16788-b286-4a8e-ab52-fe5149fb6026"
      },
      "execution_count": null,
      "outputs": [
        {
          "output_type": "stream",
          "name": "stderr",
          "text": [
            "/usr/local/lib/python3.7/dist-packages/seaborn/distributions.py:2619: FutureWarning: `distplot` is a deprecated function and will be removed in a future version. Please adapt your code to use either `displot` (a figure-level function with similar flexibility) or `histplot` (an axes-level function for histograms).\n",
            "  warnings.warn(msg, FutureWarning)\n",
            "/usr/local/lib/python3.7/dist-packages/ipykernel_launcher.py:7: MatplotlibDeprecationWarning: Adding an axes using the same arguments as a previous axes currently reuses the earlier instance.  In a future version, a new instance will always be created and returned.  Meanwhile, this warning can be suppressed, and the future behavior ensured, by passing a unique label to each axes instance.\n",
            "  import sys\n"
          ]
        },
        {
          "output_type": "execute_result",
          "data": {
            "text/plain": [
              "Text(0.5, 1.0, 'Test VS Prediction')"
            ]
          },
          "metadata": {},
          "execution_count": 632
        },
        {
          "output_type": "display_data",
          "data": {
            "text/plain": [
              "<Figure size 1080x576 with 1 Axes>"
            ],
            "image/png": "[encoded data removed]"
          },
          "metadata": {
            "needs_background": "light"
          }
        }
      ]
    },
    {
      "cell_type": "markdown",
      "source": [
        "# Observation\n",
        "\n",
        "This model is working verr well compare to linear regression.\n",
        "\n",
        "\n"
      ],
      "metadata": {
        "id": "DMEaoLz36pZi"
      }
    },
    {
      "cell_type": "markdown",
      "source": [
        "## Now Let's try Random forest"
      ],
      "metadata": {
        "id": "jfh9PsN-4fMM"
      }
    },
    {
      "cell_type": "code",
      "source": [
        "#random forest implementation\n",
        "from sklearn.ensemble import RandomForestRegressor\n",
        "\n",
        "rf = RandomForestRegressor(criterion=\"mse\", n_estimators=5, max_depth=10)\n",
        "rf.fit(X_train, y_train)\n",
        "rf_pred = rf.predict(X_test)\n",
        "rf_pred"
      ],
      "metadata": {
        "colab": {
          "base_uri": "https://localhost:8080/"
        },
        "id": "g21sCErw33-L",
        "outputId": "509fe3d9-09c9-4aee-bbc6-f83f98cc7b53"
      },
      "execution_count": null,
      "outputs": [
        {
          "output_type": "stream",
          "name": "stderr",
          "text": [
            "/usr/local/lib/python3.7/dist-packages/sklearn/ensemble/_forest.py:400: FutureWarning: Criterion 'mse' was deprecated in v1.0 and will be removed in version 1.2. Use `criterion='squared_error'` which is equivalent.\n",
            "  FutureWarning,\n"
          ]
        },
        {
          "output_type": "execute_result",
          "data": {
            "text/plain": [
              "array([5.30965084, 6.68029607, 5.09667263, ..., 5.70569198, 6.08997477,\n",
              "       6.97490651])"
            ]
          },
          "metadata": {},
          "execution_count": 633
        }
      ]
    },
    {
      "cell_type": "code",
      "source": [
        "#examining metrics \n",
        "\n",
        "print (\"Training Score : \" , rf.score(X_train, y_train))\n",
        "print (\"Validation Score : \", rf.score(X_test, y_test))\n",
        "print (\"R2_Score : \", r2_score(rf_pred, y_test))\n",
        "#print (\"Cross Validation Score : \" , cross_val_score(rf, X_train, y_train, cv=5).mean())\n",
        "#print (\"RMSLE : \", np.sqrt(mean_squared_log_error(rf_pred, y_test)))"
      ],
      "metadata": {
        "colab": {
          "base_uri": "https://localhost:8080/"
        },
        "id": "yE65f9u-45zQ",
        "outputId": "c2ce61c8-2990-4ca0-b72a-f2ab72feed51"
      },
      "execution_count": null,
      "outputs": [
        {
          "output_type": "stream",
          "name": "stdout",
          "text": [
            "Training Score :  0.661140994376077\n",
            "Validation Score :  0.6502387251375603\n",
            "R2_Score :  0.46661733228104296\n"
          ]
        }
      ]
    },
    {
      "cell_type": "code",
      "source": [
        "#prediction vs real data\n",
        "\n",
        "plt.figure(figsize=(15,8))\n",
        "plt.subplot(1,1,1)\n",
        "sns.distplot(y_test, kde=False, color=\"black\", label=\"Test\")\n",
        "\n",
        "plt.subplot(1,1,1)\n",
        "sns.distplot(rf_pred, kde=False, color=\"indigo\", label=\"Prediction\")\n",
        "plt.legend()\n",
        "plt.title(\"Test VS Prediction\")"
      ],
      "metadata": {
        "colab": {
          "base_uri": "https://localhost:8080/",
          "height": 621
        },
        "id": "h0QKX--25Nx_",
        "outputId": "2a73c0a8-f353-4227-bcd9-8444a6bc13a6"
      },
      "execution_count": null,
      "outputs": [
        {
          "output_type": "stream",
          "name": "stderr",
          "text": [
            "/usr/local/lib/python3.7/dist-packages/seaborn/distributions.py:2619: FutureWarning: `distplot` is a deprecated function and will be removed in a future version. Please adapt your code to use either `displot` (a figure-level function with similar flexibility) or `histplot` (an axes-level function for histograms).\n",
            "  warnings.warn(msg, FutureWarning)\n",
            "/usr/local/lib/python3.7/dist-packages/ipykernel_launcher.py:7: MatplotlibDeprecationWarning: Adding an axes using the same arguments as a previous axes currently reuses the earlier instance.  In a future version, a new instance will always be created and returned.  Meanwhile, this warning can be suppressed, and the future behavior ensured, by passing a unique label to each axes instance.\n",
            "  import sys\n"
          ]
        },
        {
          "output_type": "execute_result",
          "data": {
            "text/plain": [
              "Text(0.5, 1.0, 'Test VS Prediction')"
            ]
          },
          "metadata": {},
          "execution_count": 635
        },
        {
          "output_type": "display_data",
          "data": {
            "text/plain": [
              "<Figure size 1080x576 with 1 Axes>"
            ],
            "image/png": "[encoded data removed]"
          },
          "metadata": {
            "needs_background": "light"
          }
        }
      ]
    },
    {
      "cell_type": "markdown",
      "source": [
        "# Observation \n",
        "\n",
        "This model is working similar to decision tree."
      ],
      "metadata": {
        "id": "pr_dZ2Of64uB"
      }
    },
    {
      "cell_type": "markdown",
      "source": [
        "## Over all Conclusion\n",
        "\n",
        "---\n",
        "\n"
      ],
      "metadata": {
        "id": "hT9Btnlc9Y2o"
      }
    },
    {
      "cell_type": "markdown",
      "source": [
        "Most of the trip consist 1 or 2 passenger.\n",
        "\n",
        "Vendor 2 is evidently more famous among the population.\n",
        "\n",
        "Most of pickups at betwwen 5 PM to 9 PM.\n",
        "\n",
        "Here we can see that Fridays and Saturdays are those days in a week when peoples prefer to rome in the city.\n",
        "\n",
        "Average distance travelled is approx 3.5 kms.\n",
        "\n",
        "Most of the trips are limited to the range of 1-10 kms.\n",
        "\n",
        "Most of the ride are of 10 min.\n",
        "\n",
        "There were very few trips (0.55%) of which the records were stored in memory.\n",
        "\n",
        "Average trip duration is lowest at 6 AM when there is minimal traffic on the roads.\n",
        "\n",
        "The duration difference between each month is not much. It has increased gradually over a period of 6 months\n",
        "\n",
        "Trip duration is longer for the trips where the flag is not set.\n",
        "\n",
        "Inter quartile range of trip duration is more for the trips with the flag 'Y' as compared to the trips with flag 'N'.\n",
        "\n",
        "The median value is almost equal for both.\n",
        "\n",
        "Trip distance is highest during early morning hours.\n",
        "\n",
        "Possible reasone behind this is Outstation trips taken during the weekends.\n",
        "\n",
        "Trip distance is fairly equal from morning till the evening\n",
        "\n",
        "Sunday being at the top may be due to outstation trips or night trips.\n",
        "\n",
        "Here also the distibution is almost equivalent, varying mostly around 3.25 km/h.\n",
        "\n",
        "Interquartile range of distance is almost twice for Flag 'Y' trips as compared to the Flag 'N' trips.\n",
        "\n",
        "Median value is much different in both the case as well.\n",
        "\n",
        "We can see that most of the taxi pickups were done in the manhattan area as compared to the other areas in NYC.\n",
        "\n"
      ],
      "metadata": {
        "id": "DOp0Lgh19h9f"
      }
    }
  ]
}